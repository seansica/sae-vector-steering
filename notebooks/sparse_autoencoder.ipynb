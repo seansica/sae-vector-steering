{
  "cells": [
    {
      "cell_type": "markdown",
      "metadata": {
        "id": "view-in-github",
        "colab_type": "text"
      },
      "source": [
        "<a href=\"https://colab.research.google.com/github/UC-Berkeley-I-School/DATASCI266-Final-Project-Sean-Rini/blob/main/notebooks/sparse_autoencoder.ipynb\" target=\"_parent\"><img src=\"https://colab.research.google.com/assets/colab-badge.svg\" alt=\"Open In Colab\"/></a>"
      ]
    },
    {
      "cell_type": "markdown",
      "source": [
        "Instructions:\n",
        "\n",
        "1. Install pipx\n",
        "```\n",
        "# Linux\n",
        "sudo apt update\n",
        "sudo apt install pipx\n",
        "pipx ensurepath\n",
        "sudo pipx ensurepath\n",
        "```\n",
        "\n",
        "2. Install poetry\n",
        "```\n",
        "pipx install poetry\n",
        "source ~/.bashrc\n",
        "poetry config virtualenvs.in-project false\n",
        "poetry config virtualenvs.create false\n",
        "```\n",
        "\n",
        "3. Install/build sparse_autoencoders\n",
        "```\n",
        "git clone git@github.com:ai-safety-foundation/sparse_autoencoder.git\n",
        "cd sparse_autoencoder\n",
        "```\n",
        "OR (if you don't want to setup SSH auth to GitHub):\n",
        "```\n",
        "wget https://github.com/ai-safety-foundation/sparse_autoencoder/archive/refs/heads/main.zip\n",
        "unzip main.zip\n",
        "cd sparse_autoencoder-main\n",
        "```\n",
        "then\n",
        "```\n",
        "poetry install --no-root\n",
        "```"
      ],
      "metadata": {
        "id": "ww14UnRUZlwY"
      }
    },
    {
      "cell_type": "markdown",
      "source": [
        "# take 1"
      ],
      "metadata": {
        "id": "UUHnSrhcB5i2"
      }
    },
    {
      "cell_type": "markdown",
      "source": [
        "Move in `\"/content\"`"
      ],
      "metadata": {
        "id": "hjzIa8PR_ROx"
      }
    },
    {
      "cell_type": "code",
      "source": [
        "import os\n",
        "os.chdir('/content')"
      ],
      "metadata": {
        "id": "DDqCr7fl_Nc-"
      },
      "execution_count": 1,
      "outputs": []
    },
    {
      "cell_type": "markdown",
      "source": [
        "Setup git email and username"
      ],
      "metadata": {
        "id": "MP0HOTaD_13j"
      }
    },
    {
      "cell_type": "code",
      "source": [
        " !git config --global user.email \"23294618+seansica@users.noreply.github.com\"\n",
        " !git config --global user.name \"Sean Sica\""
      ],
      "metadata": {
        "id": "ACxtPfnR_k6x"
      },
      "execution_count": 2,
      "outputs": []
    },
    {
      "cell_type": "markdown",
      "source": [
        "Clone the project from git"
      ],
      "metadata": {
        "id": "tvArB9AL_4lw"
      }
    },
    {
      "cell_type": "code",
      "source": [
        " # https://github.com/ai-safety-foundation/sparse_autoencoder.git\n",
        " !git clone https://@github.com/ai-safety-foundation/sparse_autoencoder.git"
      ],
      "metadata": {
        "colab": {
          "base_uri": "https://localhost:8080/"
        },
        "id": "hLNoPdSC_UCz",
        "outputId": "124d8766-effb-4022-cb9b-a6c29ea14fc9"
      },
      "execution_count": 3,
      "outputs": [
        {
          "output_type": "stream",
          "name": "stdout",
          "text": [
            "Cloning into 'sparse_autoencoder'...\n",
            "warning: redirecting to https://github.com/ai-safety-foundation/sparse_autoencoder.git/\n",
            "remote: Enumerating objects: 9230, done.\u001b[K\n",
            "remote: Counting objects: 100% (1452/1452), done.\u001b[K\n",
            "remote: Compressing objects: 100% (494/494), done.\u001b[K\n",
            "remote: Total 9230 (delta 855), reused 1203 (delta 738), pack-reused 7778\u001b[K\n",
            "Receiving objects: 100% (9230/9230), 12.44 MiB | 16.89 MiB/s, done.\n",
            "Resolving deltas: 100% (5037/5037), done.\n"
          ]
        }
      ]
    },
    {
      "cell_type": "markdown",
      "source": [
        "Install poetry from pip"
      ],
      "metadata": {
        "id": "6O2SMbCgAS-Q"
      }
    },
    {
      "cell_type": "code",
      "source": [
        "!pip install poetry"
      ],
      "metadata": {
        "colab": {
          "base_uri": "https://localhost:8080/"
        },
        "id": "JZFNfDvUzjEb",
        "outputId": "1a5a52d7-0cbb-4318-d9d5-e601cf52b282"
      },
      "execution_count": 4,
      "outputs": [
        {
          "output_type": "stream",
          "name": "stdout",
          "text": [
            "Collecting poetry\n",
            "  Downloading poetry-1.8.3-py3-none-any.whl (249 kB)\n",
            "\u001b[2K     \u001b[90m━━━━━━━━━━━━━━━━━━━━━━━━━━━━━━━━━━━━━━━━\u001b[0m \u001b[32m249.9/249.9 kB\u001b[0m \u001b[31m5.1 MB/s\u001b[0m eta \u001b[36m0:00:00\u001b[0m\n",
            "\u001b[?25hRequirement already satisfied: build<2.0.0,>=1.0.3 in /usr/local/lib/python3.10/dist-packages (from poetry) (1.2.1)\n",
            "Requirement already satisfied: cachecontrol[filecache]<0.15.0,>=0.14.0 in /usr/local/lib/python3.10/dist-packages (from poetry) (0.14.0)\n",
            "Collecting cleo<3.0.0,>=2.1.0 (from poetry)\n",
            "  Downloading cleo-2.1.0-py3-none-any.whl (78 kB)\n",
            "\u001b[2K     \u001b[90m━━━━━━━━━━━━━━━━━━━━━━━━━━━━━━━━━━━━━━━━\u001b[0m \u001b[32m78.7/78.7 kB\u001b[0m \u001b[31m5.7 MB/s\u001b[0m eta \u001b[36m0:00:00\u001b[0m\n",
            "\u001b[?25hCollecting crashtest<0.5.0,>=0.4.1 (from poetry)\n",
            "  Downloading crashtest-0.4.1-py3-none-any.whl (7.6 kB)\n",
            "Collecting dulwich<0.22.0,>=0.21.2 (from poetry)\n",
            "  Downloading dulwich-0.21.7-cp310-cp310-manylinux_2_17_x86_64.manylinux2014_x86_64.whl (514 kB)\n",
            "\u001b[2K     \u001b[90m━━━━━━━━━━━━━━━━━━━━━━━━━━━━━━━━━━━━━━━━\u001b[0m \u001b[32m514.7/514.7 kB\u001b[0m \u001b[31m10.2 MB/s\u001b[0m eta \u001b[36m0:00:00\u001b[0m\n",
            "\u001b[?25hRequirement already satisfied: fastjsonschema<3.0.0,>=2.18.0 in /usr/local/lib/python3.10/dist-packages (from poetry) (2.20.0)\n",
            "Collecting installer<0.8.0,>=0.7.0 (from poetry)\n",
            "  Downloading installer-0.7.0-py3-none-any.whl (453 kB)\n",
            "\u001b[2K     \u001b[90m━━━━━━━━━━━━━━━━━━━━━━━━━━━━━━━━━━━━━━━━\u001b[0m \u001b[32m453.8/453.8 kB\u001b[0m \u001b[31m13.6 MB/s\u001b[0m eta \u001b[36m0:00:00\u001b[0m\n",
            "\u001b[?25hCollecting keyring<25.0.0,>=24.0.0 (from poetry)\n",
            "  Downloading keyring-24.3.1-py3-none-any.whl (38 kB)\n",
            "Requirement already satisfied: packaging>=23.1 in /usr/local/lib/python3.10/dist-packages (from poetry) (24.1)\n",
            "Requirement already satisfied: pexpect<5.0.0,>=4.7.0 in /usr/local/lib/python3.10/dist-packages (from poetry) (4.9.0)\n",
            "Collecting pkginfo<2.0,>=1.10 (from poetry)\n",
            "  Downloading pkginfo-1.11.1-py3-none-any.whl (31 kB)\n",
            "Requirement already satisfied: platformdirs<5,>=3.0.0 in /usr/local/lib/python3.10/dist-packages (from poetry) (4.2.2)\n",
            "Collecting poetry-core==1.9.0 (from poetry)\n",
            "  Downloading poetry_core-1.9.0-py3-none-any.whl (309 kB)\n",
            "\u001b[2K     \u001b[90m━━━━━━━━━━━━━━━━━━━━━━━━━━━━━━━━━━━━━━━━\u001b[0m \u001b[32m309.5/309.5 kB\u001b[0m \u001b[31m13.2 MB/s\u001b[0m eta \u001b[36m0:00:00\u001b[0m\n",
            "\u001b[?25hCollecting poetry-plugin-export<2.0.0,>=1.6.0 (from poetry)\n",
            "  Downloading poetry_plugin_export-1.8.0-py3-none-any.whl (10 kB)\n",
            "Requirement already satisfied: pyproject-hooks<2.0.0,>=1.0.0 in /usr/local/lib/python3.10/dist-packages (from poetry) (1.1.0)\n",
            "Requirement already satisfied: requests<3.0,>=2.26 in /usr/local/lib/python3.10/dist-packages (from poetry) (2.31.0)\n",
            "Collecting requests-toolbelt<2.0.0,>=1.0.0 (from poetry)\n",
            "  Downloading requests_toolbelt-1.0.0-py2.py3-none-any.whl (54 kB)\n",
            "\u001b[2K     \u001b[90m━━━━━━━━━━━━━━━━━━━━━━━━━━━━━━━━━━━━━━━━\u001b[0m \u001b[32m54.5/54.5 kB\u001b[0m \u001b[31m9.5 MB/s\u001b[0m eta \u001b[36m0:00:00\u001b[0m\n",
            "\u001b[?25hRequirement already satisfied: shellingham<2.0,>=1.5 in /usr/local/lib/python3.10/dist-packages (from poetry) (1.5.4)\n",
            "Requirement already satisfied: tomli<3.0.0,>=2.0.1 in /usr/local/lib/python3.10/dist-packages (from poetry) (2.0.1)\n",
            "Collecting tomlkit<1.0.0,>=0.11.4 (from poetry)\n",
            "  Downloading tomlkit-0.12.5-py3-none-any.whl (37 kB)\n",
            "Collecting trove-classifiers>=2022.5.19 (from poetry)\n",
            "  Downloading trove_classifiers-2024.7.2-py3-none-any.whl (13 kB)\n",
            "Collecting virtualenv<21.0.0,>=20.23.0 (from poetry)\n",
            "  Downloading virtualenv-20.26.3-py3-none-any.whl (5.7 MB)\n",
            "\u001b[2K     \u001b[90m━━━━━━━━━━━━━━━━━━━━━━━━━━━━━━━━━━━━━━━━\u001b[0m \u001b[32m5.7/5.7 MB\u001b[0m \u001b[31m31.1 MB/s\u001b[0m eta \u001b[36m0:00:00\u001b[0m\n",
            "\u001b[?25hRequirement already satisfied: msgpack<2.0.0,>=0.5.2 in /usr/local/lib/python3.10/dist-packages (from cachecontrol[filecache]<0.15.0,>=0.14.0->poetry) (1.0.8)\n",
            "Requirement already satisfied: filelock>=3.8.0 in /usr/local/lib/python3.10/dist-packages (from cachecontrol[filecache]<0.15.0,>=0.14.0->poetry) (3.15.4)\n",
            "Collecting rapidfuzz<4.0.0,>=3.0.0 (from cleo<3.0.0,>=2.1.0->poetry)\n",
            "  Downloading rapidfuzz-3.9.4-cp310-cp310-manylinux_2_17_x86_64.manylinux2014_x86_64.whl (3.4 MB)\n",
            "\u001b[2K     \u001b[90m━━━━━━━━━━━━━━━━━━━━━━━━━━━━━━━━━━━━━━━━\u001b[0m \u001b[32m3.4/3.4 MB\u001b[0m \u001b[31m54.6 MB/s\u001b[0m eta \u001b[36m0:00:00\u001b[0m\n",
            "\u001b[?25hRequirement already satisfied: urllib3>=1.25 in /usr/local/lib/python3.10/dist-packages (from dulwich<0.22.0,>=0.21.2->poetry) (2.0.7)\n",
            "Collecting jaraco.classes (from keyring<25.0.0,>=24.0.0->poetry)\n",
            "  Downloading jaraco.classes-3.4.0-py3-none-any.whl (6.8 kB)\n",
            "Requirement already satisfied: importlib-metadata>=4.11.4 in /usr/local/lib/python3.10/dist-packages (from keyring<25.0.0,>=24.0.0->poetry) (8.0.0)\n",
            "Requirement already satisfied: SecretStorage>=3.2 in /usr/lib/python3/dist-packages (from keyring<25.0.0,>=24.0.0->poetry) (3.3.1)\n",
            "Requirement already satisfied: jeepney>=0.4.2 in /usr/lib/python3/dist-packages (from keyring<25.0.0,>=24.0.0->poetry) (0.7.1)\n",
            "Requirement already satisfied: ptyprocess>=0.5 in /usr/local/lib/python3.10/dist-packages (from pexpect<5.0.0,>=4.7.0->poetry) (0.7.0)\n",
            "Requirement already satisfied: charset-normalizer<4,>=2 in /usr/local/lib/python3.10/dist-packages (from requests<3.0,>=2.26->poetry) (3.3.2)\n",
            "Requirement already satisfied: idna<4,>=2.5 in /usr/local/lib/python3.10/dist-packages (from requests<3.0,>=2.26->poetry) (3.7)\n",
            "Requirement already satisfied: certifi>=2017.4.17 in /usr/local/lib/python3.10/dist-packages (from requests<3.0,>=2.26->poetry) (2024.6.2)\n",
            "Collecting distlib<1,>=0.3.7 (from virtualenv<21.0.0,>=20.23.0->poetry)\n",
            "  Downloading distlib-0.3.8-py2.py3-none-any.whl (468 kB)\n",
            "\u001b[2K     \u001b[90m━━━━━━━━━━━━━━━━━━━━━━━━━━━━━━━━━━━━━━━━\u001b[0m \u001b[32m468.9/468.9 kB\u001b[0m \u001b[31m50.5 MB/s\u001b[0m eta \u001b[36m0:00:00\u001b[0m\n",
            "\u001b[?25hRequirement already satisfied: zipp>=0.5 in /usr/local/lib/python3.10/dist-packages (from importlib-metadata>=4.11.4->keyring<25.0.0,>=24.0.0->poetry) (3.19.2)\n",
            "Requirement already satisfied: more-itertools in /usr/local/lib/python3.10/dist-packages (from jaraco.classes->keyring<25.0.0,>=24.0.0->poetry) (10.1.0)\n",
            "Installing collected packages: trove-classifiers, distlib, virtualenv, tomlkit, rapidfuzz, poetry-core, pkginfo, jaraco.classes, installer, dulwich, crashtest, requests-toolbelt, keyring, cleo, poetry-plugin-export, poetry\n",
            "  Attempting uninstall: keyring\n",
            "    Found existing installation: keyring 23.5.0\n",
            "    Uninstalling keyring-23.5.0:\n",
            "      Successfully uninstalled keyring-23.5.0\n",
            "Successfully installed cleo-2.1.0 crashtest-0.4.1 distlib-0.3.8 dulwich-0.21.7 installer-0.7.0 jaraco.classes-3.4.0 keyring-24.3.1 pkginfo-1.11.1 poetry-1.8.3 poetry-core-1.9.0 poetry-plugin-export-1.8.0 rapidfuzz-3.9.4 requests-toolbelt-1.0.0 tomlkit-0.12.5 trove-classifiers-2024.7.2 virtualenv-20.26.3\n"
          ]
        }
      ]
    },
    {
      "cell_type": "markdown",
      "source": [
        "Move in the project folder (created after cloning the repository from git)\n",
        "\n"
      ],
      "metadata": {
        "id": "B7Qx9b-yAfGR"
      }
    },
    {
      "cell_type": "code",
      "source": [
        "import os\n",
        "os.chdir(\"/content/sparse_autoencoder\")"
      ],
      "metadata": {
        "id": "HeUEMPsxAW4R"
      },
      "execution_count": 3,
      "outputs": []
    },
    {
      "cell_type": "markdown",
      "source": [
        "Configure poetry not to create virtual environments in the project folder"
      ],
      "metadata": {
        "id": "u6_pCllvAczo"
      }
    },
    {
      "cell_type": "code",
      "source": [
        "!poetry config virtualenvs.in-project false"
      ],
      "metadata": {
        "id": "M8GAc6qCzo-x"
      },
      "execution_count": 6,
      "outputs": []
    },
    {
      "cell_type": "markdown",
      "source": [
        "Install all dependencies and eventually add extra dependencies"
      ],
      "metadata": {
        "id": "zGwylFeQApW-"
      }
    },
    {
      "cell_type": "code",
      "source": [
        "!poetry install --no-ansi\n",
        "# !poetry run pip install <Extra Dependency Name>"
      ],
      "metadata": {
        "colab": {
          "base_uri": "https://localhost:8080/"
        },
        "id": "jFTKbevk2TjM",
        "outputId": "a2423c3b-e7e2-4698-b878-f04d8b8a2a6c"
      },
      "execution_count": 10,
      "outputs": [
        {
          "output_type": "stream",
          "name": "stdout",
          "text": [
            "Installing dependencies from lock file\n",
            "\n",
            "No dependencies to install or update\n",
            "\n",
            "Installing the current project: sparse_autoencoder (0.0.0)\n"
          ]
        }
      ]
    },
    {
      "cell_type": "markdown",
      "source": [
        "Note output from the `poetry install`:\n",
        "```\n",
        "Creating virtualenv sparse-autoencoder-0v-Hz7gT-py3.10 in /root/.cache/pypoetry/virtualenvs\n",
        "```"
      ],
      "metadata": {
        "id": "HrsD4VqfAvfb"
      }
    },
    {
      "cell_type": "markdown",
      "source": [
        "Add poetry virtual environment to python path so that all installed dependencies can be found by the python interpreter"
      ],
      "metadata": {
        "id": "gXY7H5vJA12j"
      }
    },
    {
      "cell_type": "code",
      "source": [
        "import sys\n",
        "venv_name = \"sparse-autoencoder-0v-Hz7gT-py3.10\"\n",
        "python_version = \"3.10\"\n",
        "sys.path.append(f\"/root/.cache/pypoetry/virtualenvs/{venv_name}/lib/python{python_version}/site-packages\")"
      ],
      "metadata": {
        "id": "lmrrne7kA28W"
      },
      "execution_count": 4,
      "outputs": []
    },
    {
      "cell_type": "code",
      "source": [
        "from sparse_autoencoder import (\n",
        "    ActivationResamplerHyperparameters,\n",
        "    AutoencoderHyperparameters,\n",
        "    Hyperparameters,\n",
        "    LossHyperparameters,\n",
        "    Method,\n",
        "    OptimizerHyperparameters,\n",
        "    Parameter,\n",
        "    PipelineHyperparameters,\n",
        "    SourceDataHyperparameters,\n",
        "    SourceModelHyperparameters,\n",
        "    SweepConfig,\n",
        "    sweep,\n",
        ")"
      ],
      "metadata": {
        "id": "pOvAFFAPBbGR"
      },
      "execution_count": 5,
      "outputs": []
    },
    {
      "cell_type": "code",
      "source": [
        "def train_gpt_small_mlp_layers(\n",
        "    expansion_factor: int = 4,\n",
        "    n_layers: int = 12,\n",
        ") -> None:\n",
        "    \"\"\"Run a new sweep experiment on GPT 2 Small's MLP layers.\n",
        "\n",
        "    Args:\n",
        "        expansion_factor: Expansion factor for the autoencoder.\n",
        "        n_layers: Number of layers to train on. Max is 12.\n",
        "\n",
        "    \"\"\"\n",
        "    sweep_config = SweepConfig(\n",
        "        parameters=Hyperparameters(\n",
        "            loss=LossHyperparameters(\n",
        "                l1_coefficient=Parameter(max=0.03, min=0.008),\n",
        "            ),\n",
        "            optimizer=OptimizerHyperparameters(\n",
        "                lr=Parameter(max=0.001, min=0.00001),\n",
        "            ),\n",
        "            source_model=SourceModelHyperparameters(\n",
        "                name=Parameter(\"gpt2\"),\n",
        "                cache_names=Parameter(\n",
        "                    [f\"blocks.{layer}.hook_mlp_out\" for layer in range(n_layers)]\n",
        "                ),\n",
        "                hook_dimension=Parameter(768),\n",
        "            ),\n",
        "            source_data=SourceDataHyperparameters(\n",
        "                dataset_path=Parameter(\"alancooney/sae-monology-pile-uncopyrighted-tokenizer-gpt2\"),\n",
        "                context_size=Parameter(256),\n",
        "                pre_tokenized=Parameter(value=True),\n",
        "                pre_download=Parameter(value=False),  # Default to streaming the dataset\n",
        "            ),\n",
        "            autoencoder=AutoencoderHyperparameters(\n",
        "                expansion_factor=Parameter(value=expansion_factor)\n",
        "            ),\n",
        "            pipeline=PipelineHyperparameters(\n",
        "                max_activations=Parameter(1_000_000_000),\n",
        "                checkpoint_frequency=Parameter(100_000_000),\n",
        "                validation_frequency=Parameter(100_000_000),\n",
        "                max_store_size=Parameter(1_000_000),\n",
        "            ),\n",
        "            activation_resampler=ActivationResamplerHyperparameters(\n",
        "                resample_interval=Parameter(200_000_000),\n",
        "                n_activations_activity_collate=Parameter(100_000_000),\n",
        "                threshold_is_dead_portion_fires=Parameter(1e-6),\n",
        "                max_n_resamples=Parameter(4),\n",
        "            ),\n",
        "        ),\n",
        "        method=Method.RANDOM,\n",
        "    )\n",
        "\n",
        "    sweep(sweep_config=sweep_config)"
      ],
      "metadata": {
        "id": "bgFsh1iLCibP"
      },
      "execution_count": 6,
      "outputs": []
    },
    {
      "cell_type": "markdown",
      "source": [
        "Troubleshooting:\n",
        "```\n",
        "ServiceStartProcessError: The wandb service process exited with 1. Ensure that `sys.executable` is a valid python interpreter. You can override it with the `_executable` setting or with the `WANDB__EXECUTABLE` environment variable.\n",
        "```\n",
        "\n",
        "https://github.com/wandb/wandb/issues/5765 : DID NOT WORK"
      ],
      "metadata": {
        "id": "OsU1KoQYDCVP"
      }
    },
    {
      "cell_type": "code",
      "source": [
        "import os\n",
        "os.chdir(\"/content/sparse_autoencoder\")\n",
        "!poetry run python test.py"
      ],
      "metadata": {
        "colab": {
          "base_uri": "https://localhost:8080/"
        },
        "id": "ubbKmVBCEP0Y",
        "outputId": "ea1ca134-81f6-448a-a439-8f8612e5edbd"
      },
      "execution_count": 9,
      "outputs": [
        {
          "output_type": "stream",
          "name": "stdout",
          "text": [
            "\u001b[34m\u001b[1mwandb\u001b[0m: \u001b[32m\u001b[41mERROR\u001b[0m Connection to wandb service failed: [Errno 111] Connection refused. \n",
            "Traceback (most recent call last):\n",
            "  File \"/root/.cache/pypoetry/virtualenvs/sparse-autoencoder-0v-Hz7gT-py3.10/lib/python3.10/site-packages/wandb/sdk/wandb_manager.py\", line 116, in _service_connect\n",
            "    svc_iface._svc_connect(port=port)\n",
            "  File \"/root/.cache/pypoetry/virtualenvs/sparse-autoencoder-0v-Hz7gT-py3.10/lib/python3.10/site-packages/wandb/sdk/service/service_sock.py\", line 30, in _svc_connect\n",
            "    self._sock_client.connect(port=port)\n",
            "  File \"/root/.cache/pypoetry/virtualenvs/sparse-autoencoder-0v-Hz7gT-py3.10/lib/python3.10/site-packages/wandb/sdk/lib/sock_client.py\", line 102, in connect\n",
            "    s.connect((\"localhost\", port))\n",
            "ConnectionRefusedError: [Errno 111] Connection refused\n",
            "\n",
            "During handling of the above exception, another exception occurred:\n",
            "\n",
            "Traceback (most recent call last):\n",
            "  File \"/content/sparse_autoencoder/test.py\", line 64, in <module>\n",
            "    train_gpt_small_mlp_layers()\n",
            "  File \"/content/sparse_autoencoder/test.py\", line 61, in train_gpt_small_mlp_layers\n",
            "    sweep(sweep_config=sweep_config)\n",
            "  File \"/content/sparse_autoencoder/sparse_autoencoder/train/sweep.py\", line 287, in sweep\n",
            "    sweep_id = wandb.sweep(sweep_config.to_dict(), project=\"sparse-autoencoder\")\n",
            "  File \"/root/.cache/pypoetry/virtualenvs/sparse-autoencoder-0v-Hz7gT-py3.10/lib/python3.10/site-packages/wandb/sdk/wandb_sweep.py\", line 108, in sweep\n",
            "    wandb_login._login(_silent=True)\n",
            "  File \"/root/.cache/pypoetry/virtualenvs/sparse-autoencoder-0v-Hz7gT-py3.10/lib/python3.10/site-packages/wandb/sdk/wandb_login.py\", line 296, in _login\n",
            "    wlogin.setup(kwargs)\n",
            "  File \"/root/.cache/pypoetry/virtualenvs/sparse-autoencoder-0v-Hz7gT-py3.10/lib/python3.10/site-packages/wandb/sdk/wandb_login.py\", line 130, in setup\n",
            "    _logger = wandb.setup()._get_logger()\n",
            "  File \"/root/.cache/pypoetry/virtualenvs/sparse-autoencoder-0v-Hz7gT-py3.10/lib/python3.10/site-packages/wandb/sdk/wandb_setup.py\", line 327, in setup\n",
            "    ret = _setup(settings=settings)\n",
            "  File \"/root/.cache/pypoetry/virtualenvs/sparse-autoencoder-0v-Hz7gT-py3.10/lib/python3.10/site-packages/wandb/sdk/wandb_setup.py\", line 320, in _setup\n",
            "    wl = _WandbSetup(settings=settings)\n",
            "  File \"/root/.cache/pypoetry/virtualenvs/sparse-autoencoder-0v-Hz7gT-py3.10/lib/python3.10/site-packages/wandb/sdk/wandb_setup.py\", line 303, in __init__\n",
            "    _WandbSetup._instance = _WandbSetup__WandbSetup(settings=settings, pid=pid)\n",
            "  File \"/root/.cache/pypoetry/virtualenvs/sparse-autoencoder-0v-Hz7gT-py3.10/lib/python3.10/site-packages/wandb/sdk/wandb_setup.py\", line 114, in __init__\n",
            "    self._setup()\n",
            "  File \"/root/.cache/pypoetry/virtualenvs/sparse-autoencoder-0v-Hz7gT-py3.10/lib/python3.10/site-packages/wandb/sdk/wandb_setup.py\", line 250, in _setup\n",
            "    self._setup_manager()\n",
            "  File \"/root/.cache/pypoetry/virtualenvs/sparse-autoencoder-0v-Hz7gT-py3.10/lib/python3.10/site-packages/wandb/sdk/wandb_setup.py\", line 277, in _setup_manager\n",
            "    self._manager = wandb_manager._Manager(settings=self._settings)\n",
            "  File \"/root/.cache/pypoetry/virtualenvs/sparse-autoencoder-0v-Hz7gT-py3.10/lib/python3.10/site-packages/wandb/sdk/wandb_manager.py\", line 153, in __init__\n",
            "    wandb._sentry.reraise(e)\n",
            "  File \"/root/.cache/pypoetry/virtualenvs/sparse-autoencoder-0v-Hz7gT-py3.10/lib/python3.10/site-packages/wandb/analytics/sentry.py\", line 154, in reraise\n",
            "    raise exc.with_traceback(sys.exc_info()[2])\n",
            "  File \"/root/.cache/pypoetry/virtualenvs/sparse-autoencoder-0v-Hz7gT-py3.10/lib/python3.10/site-packages/wandb/sdk/wandb_manager.py\", line 151, in __init__\n",
            "    self._service_connect()\n",
            "  File \"/root/.cache/pypoetry/virtualenvs/sparse-autoencoder-0v-Hz7gT-py3.10/lib/python3.10/site-packages/wandb/sdk/wandb_manager.py\", line 125, in _service_connect\n",
            "    raise ManagerConnectionRefusedError(message)\n",
            "wandb.sdk.wandb_manager.ManagerConnectionRefusedError: Connection to wandb service failed: [Errno 111] Connection refused. \n",
            "Traceback (most recent call last):\n",
            "  File \"/root/.cache/pypoetry/virtualenvs/sparse-autoencoder-0v-Hz7gT-py3.10/lib/python3.10/site-packages/wandb/sdk/wandb_manager.py\", line 116, in _service_connect\n",
            "    svc_iface._svc_connect(port=port)\n",
            "  File \"/root/.cache/pypoetry/virtualenvs/sparse-autoencoder-0v-Hz7gT-py3.10/lib/python3.10/site-packages/wandb/sdk/service/service_sock.py\", line 30, in _svc_connect\n",
            "    self._sock_client.connect(port=port)\n",
            "  File \"/root/.cache/pypoetry/virtualenvs/sparse-autoencoder-0v-Hz7gT-py3.10/lib/python3.10/site-packages/wandb/sdk/lib/sock_client.py\", line 102, in connect\n",
            "    s.connect((\"localhost\", port))\n",
            "ConnectionRefusedError: [Errno 111] Connection refused\n",
            "\n",
            "During handling of the above exception, another exception occurred:\n",
            "\n",
            "Traceback (most recent call last):\n",
            "  File \"/content/sparse_autoencoder/test.py\", line 64, in <module>\n",
            "    train_gpt_small_mlp_layers()\n",
            "  File \"/content/sparse_autoencoder/test.py\", line 61, in train_gpt_small_mlp_layers\n",
            "    sweep(sweep_config=sweep_config)\n",
            "  File \"/content/sparse_autoencoder/sparse_autoencoder/train/sweep.py\", line 287, in sweep\n",
            "    sweep_id = wandb.sweep(sweep_config.to_dict(), project=\"sparse-autoencoder\")\n",
            "  File \"/root/.cache/pypoetry/virtualenvs/sparse-autoencoder-0v-Hz7gT-py3.10/lib/python3.10/site-packages/wandb/sdk/wandb_sweep.py\", line 108, in sweep\n",
            "    wandb_login._login(_silent=True)\n",
            "  File \"/root/.cache/pypoetry/virtualenvs/sparse-autoencoder-0v-Hz7gT-py3.10/lib/python3.10/site-packages/wandb/sdk/wandb_login.py\", line 296, in _login\n",
            "    wlogin.setup(kwargs)\n",
            "  File \"/root/.cache/pypoetry/virtualenvs/sparse-autoencoder-0v-Hz7gT-py3.10/lib/python3.10/site-packages/wandb/sdk/wandb_login.py\", line 130, in setup\n",
            "    _logger = wandb.setup()._get_logger()\n",
            "  File \"/root/.cache/pypoetry/virtualenvs/sparse-autoencoder-0v-Hz7gT-py3.10/lib/python3.10/site-packages/wandb/sdk/wandb_setup.py\", line 327, in setup\n",
            "    ret = _setup(settings=settings)\n",
            "  File \"/root/.cache/pypoetry/virtualenvs/sparse-autoencoder-0v-Hz7gT-py3.10/lib/python3.10/site-packages/wandb/sdk/wandb_setup.py\", line 320, in _setup\n",
            "    wl = _WandbSetup(settings=settings)\n",
            "  File \"/root/.cache/pypoetry/virtualenvs/sparse-autoencoder-0v-Hz7gT-py3.10/lib/python3.10/site-packages/wandb/sdk/wandb_setup.py\", line 303, in __init__\n",
            "    _WandbSetup._instance = _WandbSetup__WandbSetup(settings=settings, pid=pid)\n",
            "  File \"/root/.cache/pypoetry/virtualenvs/sparse-autoencoder-0v-Hz7gT-py3.10/lib/python3.10/site-packages/wandb/sdk/wandb_setup.py\", line 114, in __init__\n",
            "    self._setup()\n",
            "  File \"/root/.cache/pypoetry/virtualenvs/sparse-autoencoder-0v-Hz7gT-py3.10/lib/python3.10/site-packages/wandb/sdk/wandb_setup.py\", line 250, in _setup\n",
            "    self._setup_manager()\n",
            "  File \"/root/.cache/pypoetry/virtualenvs/sparse-autoencoder-0v-Hz7gT-py3.10/lib/python3.10/site-packages/wandb/sdk/wandb_setup.py\", line 277, in _setup_manager\n",
            "    self._manager = wandb_manager._Manager(settings=self._settings)\n",
            "  File \"/root/.cache/pypoetry/virtualenvs/sparse-autoencoder-0v-Hz7gT-py3.10/lib/python3.10/site-packages/wandb/sdk/wandb_manager.py\", line 153, in __init__\n",
            "    wandb._sentry.reraise(e)\n",
            "  File \"/root/.cache/pypoetry/virtualenvs/sparse-autoencoder-0v-Hz7gT-py3.10/lib/python3.10/site-packages/wandb/analytics/sentry.py\", line 154, in reraise\n",
            "    raise exc.with_traceback(sys.exc_info()[2])\n",
            "  File \"/root/.cache/pypoetry/virtualenvs/sparse-autoencoder-0v-Hz7gT-py3.10/lib/python3.10/site-packages/wandb/sdk/wandb_manager.py\", line 151, in __init__\n",
            "    self._service_connect()\n",
            "  File \"/root/.cache/pypoetry/virtualenvs/sparse-autoencoder-0v-Hz7gT-py3.10/lib/python3.10/site-packages/wandb/sdk/wandb_manager.py\", line 125, in _service_connect\n",
            "    raise ManagerConnectionRefusedError(message)\n",
            "wandb.sdk.wandb_manager.ManagerConnectionRefusedError: Connection to wandb service failed: [Errno 111] Connection refused. \n",
            "\u001b[34m\u001b[1mwandb\u001b[0m: While tearing down the service manager. The following error has occurred: 'SockClient' object has no attribute '_sock'\n"
          ]
        }
      ]
    },
    {
      "cell_type": "markdown",
      "source": [
        "# take 2"
      ],
      "metadata": {
        "id": "F7Fpbo4BB1DF"
      }
    },
    {
      "cell_type": "code",
      "source": [
        "VENV_PATH_ROOT = \"/content/sparse_autoencoder-main/.venv\"\n",
        "VENV_PATH = f\"{VENV_PATH_ROOT}/lib/python3.10/site-packages\""
      ],
      "metadata": {
        "id": "mBQcQdBmzz8r"
      },
      "execution_count": 11,
      "outputs": []
    },
    {
      "cell_type": "code",
      "source": [
        "!ls $VENV_PATH"
      ],
      "metadata": {
        "colab": {
          "base_uri": "https://localhost:8080/"
        },
        "id": "3hscZFRK1A6z",
        "outputId": "122ae3d5-5be1-44b5-9382-c27f992d9979"
      },
      "execution_count": 12,
      "outputs": [
        {
          "output_type": "stream",
          "name": "stdout",
          "text": [
            "accelerate\t\t\t\t       notebook-7.0.7.dist-info\n",
            "accelerate-0.26.1.dist-info\t\t       notebook_shim\n",
            "aiohttp\t\t\t\t\t       notebook_shim-0.2.3.dist-info\n",
            "aiohttp-3.9.3.dist-info\t\t\t       numpy\n",
            "aiosignal\t\t\t\t       numpy-1.26.3.dist-info\n",
            "aiosignal-1.3.1.dist-info\t\t       numpy.libs\n",
            "annotated_types\t\t\t\t       nvfuser\n",
            "annotated_types-0.6.0.dist-info\t\t       nvidia\n",
            "anyio\t\t\t\t\t       nvidia_cublas_cu12-12.1.3.1.dist-info\n",
            "anyio-4.2.0.dist-info\t\t\t       nvidia_cuda_cupti_cu12-12.1.105.dist-info\n",
            "appdirs-1.4.4.dist-info\t\t\t       nvidia_cuda_nvrtc_cu12-12.1.105.dist-info\n",
            "appdirs.py\t\t\t\t       nvidia_cuda_runtime_cu12-12.1.105.dist-info\n",
            "argon2\t\t\t\t\t       nvidia_cudnn_cu12-8.9.2.26.dist-info\n",
            "argon2_cffi-23.1.0.dist-info\t\t       nvidia_cufft_cu12-11.0.2.54.dist-info\n",
            "_argon2_cffi_bindings\t\t\t       nvidia_curand_cu12-10.3.2.106.dist-info\n",
            "argon2_cffi_bindings-21.2.0.dist-info\t       nvidia_cusolver_cu12-11.4.5.107.dist-info\n",
            "arrow\t\t\t\t\t       nvidia_cusparse_cu12-12.1.0.106.dist-info\n",
            "arrow-1.3.0.dist-info\t\t\t       nvidia_nccl_cu12-2.18.1.dist-info\n",
            "asttokens\t\t\t\t       nvidia_nvjitlink_cu12-12.3.101.dist-info\n",
            "asttokens-2.4.1.dist-info\t\t       nvidia_nvtx_cu12-12.1.105.dist-info\n",
            "async_lru\t\t\t\t       overrides\n",
            "async_lru-2.0.4.dist-info\t\t       overrides-7.7.0.dist-info\n",
            "async_timeout\t\t\t\t       packaging\n",
            "async_timeout-4.0.3.dist-info\t\t       packaging-23.2.dist-info\n",
            "attr\t\t\t\t\t       paginate\n",
            "attrs\t\t\t\t\t       paginate-0.5.6.dist-info\n",
            "attrs-23.2.0.dist-info\t\t\t       pandas\n",
            "babel\t\t\t\t\t       pandas-2.2.0.dist-info\n",
            "Babel-2.14.0.dist-info\t\t\t       pandocfilters-1.5.1.dist-info\n",
            "beartype\t\t\t\t       pandocfilters.py\n",
            "beartype-0.14.1.dist-info\t\t       parso\n",
            "beautifulsoup4-4.12.3.dist-info\t\t       parso-0.8.3.dist-info\n",
            "better_abc\t\t\t\t       pastel\n",
            "better_abc-0.0.3.dist-info\t\t       pastel-0.2.1.dist-info\n",
            "bleach\t\t\t\t\t       pathspec\n",
            "bleach-6.1.0.dist-info\t\t\t       pathspec-0.12.1.dist-info\n",
            "bs4\t\t\t\t\t       pexpect\n",
            "build\t\t\t\t\t       pexpect-4.9.0.dist-info\n",
            "build-1.0.3.dist-info\t\t\t       pip\n",
            "cachecontrol\t\t\t\t       pip-24.1.dist-info\n",
            "cachecontrol-0.13.1.dist-info\t\t       pip-24.1.virtualenv\n",
            "certifi\t\t\t\t\t       pkginfo\n",
            "certifi-2023.11.17.dist-info\t\t       pkginfo-1.9.6.dist-info\n",
            "cffi\t\t\t\t\t       pkg_resources\n",
            "cffi-1.16.0.dist-info\t\t\t       platformdirs\n",
            "_cffi_backend.cpython-310-x86_64-linux-gnu.so  platformdirs-3.11.0.dist-info\n",
            "charset_normalizer\t\t\t       plotly\n",
            "charset_normalizer-3.3.2.dist-info\t       plotly-5.18.0.dist-info\n",
            "cleo\t\t\t\t\t       _plotly_future_\n",
            "cleo-2.1.0.dist-info\t\t\t       _plotly_utils\n",
            "click\t\t\t\t\t       pluggy\n",
            "click-8.1.7.dist-info\t\t\t       pluggy-1.4.0.dist-info\n",
            "colorama\t\t\t\t       poethepoet\n",
            "colorama-0.4.6.dist-info\t\t       poethepoet-0.24.4.dist-info\n",
            "comm\t\t\t\t\t       poetry\n",
            "comm-0.2.1.dist-info\t\t\t       poetry-1.7.1.dist-info\n",
            "coverage\t\t\t\t       poetry_core-1.8.1.dist-info\n",
            "coverage-7.4.1.dist-info\t\t       poetry_plugin_export\n",
            "cpuinfo\t\t\t\t\t       poetry_plugin_export-1.6.0.dist-info\n",
            "crashtest\t\t\t\t       poetry_plugin_up\n",
            "crashtest-0.4.1.dist-info\t\t       poetry_plugin_up-0.7.1.dist-info\n",
            "cryptography\t\t\t\t       prometheus_client\n",
            "cryptography-42.0.1.dist-info\t\t       prometheus_client-0.19.0.dist-info\n",
            "datasets\t\t\t\t       prompt_toolkit\n",
            "datasets-2.16.1.dist-info\t\t       prompt_toolkit-3.0.43.dist-info\n",
            "dateutil\t\t\t\t       protobuf-4.25.2.dist-info\n",
            "dateutil-stubs\t\t\t\t       psutil\n",
            "debugpy\t\t\t\t\t       psutil-5.9.8.dist-info\n",
            "debugpy-1.8.0.dist-info\t\t\t       ptyprocess\n",
            "decorator-5.1.1.dist-info\t\t       ptyprocess-0.7.0.dist-info\n",
            "decorator.py\t\t\t\t       pure_eval\n",
            "deepspeed\t\t\t\t       pure_eval-0.2.2.dist-info\n",
            "deepspeed-0.13.1.dist-info\t\t       pyarrow\n",
            "defusedxml\t\t\t\t       pyarrow-15.0.0.dist-info\n",
            "defusedxml-0.7.1.dist-info\t\t       pyarrow_hotfix\n",
            "dill\t\t\t\t\t       pyarrow_hotfix-0.6.dist-info\n",
            "dill-0.3.7.dist-info\t\t\t       __pycache__\n",
            "distlib\t\t\t\t\t       pycparser\n",
            "distlib-0.3.8.dist-info\t\t\t       pycparser-2.21.dist-info\n",
            "_distutils_hack\t\t\t\t       py_cpuinfo-9.0.0.dist-info\n",
            "distutils-precedence.pth\t\t       pydantic\n",
            "dockerpycreds\t\t\t\t       pydantic-2.6.0.dist-info\n",
            "docker_pycreds-0.4.0.dist-info\t\t       pydantic_core\n",
            "docs\t\t\t\t\t       pydantic_core-2.16.1.dist-info\n",
            "docstring_parser\t\t\t       pydoclint\n",
            "docstring_parser_fork-0.0.5.dist-info\t       pydoclint-0.3.9.dist-info\n",
            "dulwich\t\t\t\t\t       pygments\n",
            "dulwich-0.21.7.dist-info\t\t       pygments-2.17.2.dist-info\n",
            "einops\t\t\t\t\t       pymdown_extensions-10.7.dist-info\n",
            "einops-0.7.0.dist-info\t\t\t       pymdownx\n",
            "exceptiongroup\t\t\t\t       pynvml\n",
            "exceptiongroup-1.2.0.dist-info\t\t       pynvml-11.5.0.dist-info\n",
            "execnet\t\t\t\t\t       pyproject_hooks\n",
            "execnet-2.0.2.dist-info\t\t\t       pyproject_hooks-1.0.0.dist-info\n",
            "executing\t\t\t\t       py.py\n",
            "executing-2.0.1.dist-info\t\t       pyright\n",
            "fancy_einsum\t\t\t\t       pyright-1.1.349.dist-info\n",
            "fancy_einsum-0.0.3.dist-info\t\t       _pytest\n",
            "fastjsonschema\t\t\t\t       pytest\n",
            "fastjsonschema-2.19.1.dist-info\t\t       pytest-7.4.4.dist-info\n",
            "filelock\t\t\t\t       pytest_cov\n",
            "filelock-3.13.1.dist-info\t\t       pytest_cov-4.1.0.dist-info\n",
            "fqdn\t\t\t\t\t       pytest-cov.pth\n",
            "fqdn-1.5.1.dist-info\t\t\t       pytest_integration\n",
            "frozenlist\t\t\t\t       pytest_integration-0.2.3.dist-info\n",
            "frozenlist-1.4.1.dist-info\t\t       pytest_timeout-2.2.0.dist-info\n",
            "fsspec\t\t\t\t\t       pytest_timeout.py\n",
            "fsspec-2023.10.0.dist-info\t\t       pytest_xdist-3.5.0.dist-info\n",
            "functorch\t\t\t\t       python_dateutil-2.8.2.dist-info\n",
            "ghp_import-2.1.0.dist-info\t\t       pythonjsonlogger\n",
            "ghp_import.py\t\t\t\t       python_json_logger-2.0.7.dist-info\n",
            "git\t\t\t\t\t       pytkdocs\n",
            "gitdb\t\t\t\t\t       pytkdocs-0.16.1.dist-info\n",
            "gitdb-4.0.11.dist-info\t\t\t       pytkdocs_tweaks\n",
            "GitPython-3.1.41.dist-info\t\t       pytkdocs_tweaks-0.0.8.dist-info\n",
            "google\t\t\t\t\t       pytorch_lightning\n",
            "griffe\t\t\t\t\t       pytorch_lightning-2.1.3.dist-info\n",
            "griffe-0.39.1.dist-info\t\t\t       pytz\n",
            "hjson\t\t\t\t\t       pytz-2023.4.dist-info\n",
            "hjson-3.1.0.dist-info\t\t\t       PyYAML-6.0.1.dist-info\n",
            "htmlproofer\t\t\t\t       pyyaml_env_tag-0.1.dist-info\n",
            "huggingface_hub\t\t\t\t       pyzmq-25.1.2.dist-info\n",
            "huggingface_hub-0.20.3.dist-info\t       pyzmq.libs\n",
            "idna\t\t\t\t\t       qtconsole\n",
            "idna-3.6.dist-info\t\t\t       qtconsole-5.5.1.dist-info\n",
            "importlib_metadata\t\t\t       qtpy\n",
            "importlib_metadata-7.0.1.dist-info\t       QtPy-2.4.1.dist-info\n",
            "iniconfig\t\t\t\t       rapidfuzz\n",
            "iniconfig-2.0.0.dist-info\t\t       rapidfuzz-3.6.1.dist-info\n",
            "installer\t\t\t\t       referencing\n",
            "installer-0.7.0.dist-info\t\t       referencing-0.33.0.dist-info\n",
            "ipykernel\t\t\t\t       regex\n",
            "ipykernel-6.29.0.dist-info\t\t       regex-2023.12.25.dist-info\n",
            "ipykernel_launcher.py\t\t\t       requests\n",
            "IPython\t\t\t\t\t       requests-2.31.0.dist-info\n",
            "ipython-8.20.0.dist-info\t\t       requests_toolbelt\n",
            "ipywidgets\t\t\t\t       requests_toolbelt-1.0.0.dist-info\n",
            "ipywidgets-8.1.1.dist-info\t\t       rfc3339_validator-0.1.4.dist-info\n",
            "isoduration\t\t\t\t       rfc3339_validator.py\n",
            "isoduration-20.11.0.dist-info\t\t       rfc3986_validator-0.1.1.dist-info\n",
            "isympy.py\t\t\t\t       rfc3986_validator.py\n",
            "jaraco\t\t\t\t\t       rich\n",
            "jaraco.classes-3.3.0.dist-info\t\t       rich-13.7.0.dist-info\n",
            "jaxtyping\t\t\t\t       rpds\n",
            "jaxtyping-0.2.25.dist-info\t\t       rpds_py-0.17.1.dist-info\n",
            "jedi\t\t\t\t\t       ruff\n",
            "jedi-0.19.1.dist-info\t\t\t       ruff-0.1.14.dist-info\n",
            "jeepney\t\t\t\t\t       safetensors\n",
            "jeepney-0.8.0.dist-info\t\t\t       safetensors-0.4.2.dist-info\n",
            "jinja2\t\t\t\t\t       secretstorage\n",
            "Jinja2-3.1.3.dist-info\t\t\t       SecretStorage-3.3.3.dist-info\n",
            "json5\t\t\t\t\t       send2trash\n",
            "json5-0.9.14.dist-info\t\t\t       Send2Trash-1.8.2.dist-info\n",
            "jsonpointer-2.4.dist-info\t\t       sentry_sdk\n",
            "jsonpointer.py\t\t\t\t       sentry_sdk-1.39.2.dist-info\n",
            "jsonschema\t\t\t\t       setproctitle\n",
            "jsonschema-4.21.1.dist-info\t\t       setproctitle-1.3.3.dist-info\n",
            "jsonschema_specifications\t\t       setuptools\n",
            "jsonschema_specifications-2023.12.1.dist-info  setuptools-69.0.3.dist-info\n",
            "jupyter-1.0.0.dist-info\t\t\t       shellingham\n",
            "jupyter_client\t\t\t\t       shellingham-1.5.4.dist-info\n",
            "jupyter_client-8.6.0.dist-info\t\t       six-1.16.0.dist-info\n",
            "jupyter_console\t\t\t\t       six.py\n",
            "jupyter_console-6.6.3.dist-info\t\t       smmap\n",
            "jupyter_core\t\t\t\t       smmap-5.0.1.dist-info\n",
            "jupyter_core-5.7.1.dist-info\t\t       sniffio\n",
            "jupyter_events\t\t\t\t       sniffio-1.3.0.dist-info\n",
            "jupyter_events-0.9.0.dist-info\t\t       soupsieve\n",
            "jupyterlab\t\t\t\t       soupsieve-2.5.dist-info\n",
            "jupyterlab-4.0.11.dist-info\t\t       sparse_autoencoder-0.0.0.dist-info\n",
            "jupyterlab_plotly\t\t\t       sparse_autoencoder.pth\n",
            "jupyterlab_pygments\t\t\t       stack_data\n",
            "jupyterlab_pygments-0.3.0.dist-info\t       stack_data-0.6.3.dist-info\n",
            "jupyterlab_server\t\t\t       strenum\n",
            "jupyterlab_server-2.25.2.dist-info\t       StrEnum-0.4.15.dist-info\n",
            "jupyterlab_widgets\t\t\t       sympy\n",
            "jupyterlab_widgets-3.0.9.dist-info\t       sympy-1.12.dist-info\n",
            "jupyter_lsp\t\t\t\t       syrupy\n",
            "jupyter_lsp-2.2.2.dist-info\t\t       syrupy-4.6.0.dist-info\n",
            "jupyter.py\t\t\t\t       tenacity\n",
            "jupyter_server\t\t\t\t       tenacity-8.2.3.dist-info\n",
            "jupyter_server-2.12.5.dist-info\t\t       terminado\n",
            "jupyter_server_terminals\t\t       terminado-0.18.0.dist-info\n",
            "jupyter_server_terminals-0.5.2.dist-info       tinycss2\n",
            "keyring\t\t\t\t\t       tinycss2-1.2.1.dist-info\n",
            "keyring-24.3.0.dist-info\t\t       tokenizers\n",
            "lightning\t\t\t\t       tokenizers-0.15.1.dist-info\n",
            "lightning-2.1.3.dist-info\t\t       tomli\n",
            "lightning_fabric\t\t\t       tomli-2.0.1.dist-info\n",
            "lightning_utilities\t\t\t       tomlkit\n",
            "lightning_utilities-0.10.1.dist-info\t       tomlkit-0.12.3.dist-info\n",
            "markdown\t\t\t\t       torch\n",
            "Markdown-3.5.2.dist-info\t\t       torch-2.1.2.dist-info\n",
            "markdown_it\t\t\t\t       torchgen\n",
            "markdown_it_py-3.0.0.dist-info\t\t       torchmetrics\n",
            "markupsafe\t\t\t\t       torchmetrics-1.3.0.post0.dist-info\n",
            "MarkupSafe-2.1.4.dist-info\t\t       tornado\n",
            "material\t\t\t\t       tornado-6.4.dist-info\n",
            "materialx\t\t\t\t       tqdm\n",
            "matplotlib_inline\t\t\t       tqdm-4.66.1.dist-info\n",
            "matplotlib_inline-0.1.6.dist-info\t       traitlets\n",
            "mdurl\t\t\t\t\t       traitlets-5.14.1.dist-info\n",
            "mdurl-0.1.2.dist-info\t\t\t       transformer_lens\n",
            "mergedeep\t\t\t\t       transformer_lens-1.14.0.dist-info\n",
            "mergedeep-1.3.4.dist-info\t\t       transformers\n",
            "mistune\t\t\t\t\t       transformers-4.37.2.dist-info\n",
            "mistune-3.0.2.dist-info\t\t\t       triton\n",
            "mkdocs\t\t\t\t\t       triton-2.1.0.dist-info\n",
            "mkdocs-1.5.3.dist-info\t\t\t       trove_classifiers\n",
            "mkdocs_autorefs\t\t\t\t       trove_classifiers-2024.1.8.dist-info\n",
            "mkdocs_autorefs-0.5.0.dist-info\t\t       typeguard\n",
            "mkdocs_gen_files\t\t\t       typeguard-2.13.3.dist-info\n",
            "mkdocs_gen_files-0.5.0.dist-info\t       types_python_dateutil-2.8.19.20240106.dist-info\n",
            "mkdocs_htmlproofer_plugin-1.0.0.dist-info      typing_extensions-4.9.0.dist-info\n",
            "mkdocs_literate_nav\t\t\t       typing_extensions.py\n",
            "mkdocs_literate_nav-0.6.1.dist-info\t       tzdata\n",
            "mkdocs_material-9.5.6.dist-info\t\t       tzdata-2023.4.dist-info\n",
            "mkdocs_material_extensions-1.3.1.dist-info     uri_template\n",
            "mkdocs_section_index\t\t\t       uri_template-1.3.0.dist-info\n",
            "mkdocs_section_index-0.3.8.dist-info\t       urllib3\n",
            "mkdocstrings\t\t\t\t       urllib3-2.1.0.dist-info\n",
            "mkdocstrings-0.24.0.dist-info\t\t       virtualenv\n",
            "mkdocstrings_handlers\t\t\t       virtualenv-20.25.0.dist-info\n",
            "mkdocstrings_python-1.8.0.dist-info\t       _virtualenv.pth\n",
            "mknotebooks\t\t\t\t       _virtualenv.py\n",
            "mknotebooks-0.8.0.dist-info\t\t       wandb\n",
            "more_itertools\t\t\t\t       wandb-0.16.2.dist-info\n",
            "more_itertools-10.2.0.dist-info\t\t       watchdog\n",
            "mpmath\t\t\t\t\t       watchdog-3.0.0.dist-info\n",
            "mpmath-1.3.0.dist-info\t\t\t       wcwidth\n",
            "msgpack\t\t\t\t\t       wcwidth-0.2.13.dist-info\n",
            "msgpack-1.0.7.dist-info\t\t\t       webcolors\n",
            "multidict\t\t\t\t       webcolors-1.13.dist-info\n",
            "multidict-6.0.4.dist-info\t\t       webencodings\n",
            "_multiprocess\t\t\t\t       webencodings-0.5.1.dist-info\n",
            "multiprocess\t\t\t\t       websocket\n",
            "multiprocess-0.70.15.dist-info\t\t       websocket_client-1.7.0.dist-info\n",
            "nbclient\t\t\t\t       widgetsnbextension\n",
            "nbclient-0.9.0.dist-info\t\t       widgetsnbextension-4.0.9.dist-info\n",
            "nbconvert\t\t\t\t       xdist\n",
            "nbconvert-7.14.2.dist-info\t\t       xxhash\n",
            "nbformat\t\t\t\t       xxhash-3.4.1.dist-info\n",
            "nbformat-5.9.2.dist-info\t\t       _yaml\n",
            "nest_asyncio-1.6.0.dist-info\t\t       yaml\n",
            "nest_asyncio.py\t\t\t\t       yaml_env_tag.py\n",
            "networkx\t\t\t\t       yarl\n",
            "networkx-3.2.1.dist-info\t\t       yarl-1.9.4.dist-info\n",
            "ninja\t\t\t\t\t       zipp\n",
            "ninja-1.11.1.1.dist-info\t\t       zipp-3.17.0.dist-info\n",
            "nodeenv-1.8.0.dist-info\t\t\t       zmq\n",
            "nodeenv.py\t\t\t\t       zstandard\n",
            "notebook\t\t\t\t       zstandard-0.22.0.dist-info\n"
          ]
        }
      ]
    },
    {
      "cell_type": "markdown",
      "source": [
        "Now, let's add poetry virtual environment to python path so that all installed dependencies can be found by the python interpreter."
      ],
      "metadata": {
        "id": "zbymk-e_1NlC"
      }
    },
    {
      "cell_type": "code",
      "source": [
        "! echo $PYTHONPATH\n",
        "%env PYTHONPATH=\"$/env/python:/content/sparse_autoencoder-main/.venv/lib/python3.10/site-packages\"\n",
        "! echo $PYTHONPATH"
      ],
      "metadata": {
        "colab": {
          "base_uri": "https://localhost:8080/"
        },
        "id": "bG2gPVjG5A4p",
        "outputId": "b8351448-bba4-456e-f01b-3f07986a4b41"
      },
      "execution_count": 34,
      "outputs": [
        {
          "output_type": "stream",
          "name": "stdout",
          "text": [
            "\"$/env/python:/content/sparse_autoencoder-main\"\n",
            "env: PYTHONPATH=\"$/env/python:/content/sparse_autoencoder-main/.venv/lib/python3.10/site-packages\"\n",
            "\"$/env/python:/content/sparse_autoencoder-main/.venv/lib/python3.10/site-packages\"\n"
          ]
        }
      ]
    },
    {
      "cell_type": "code",
      "source": [
        "# Check if we're in Colab\n",
        "try:\n",
        "    import google.colab  # noqa: F401 # type: ignore\n",
        "\n",
        "    in_colab = True\n",
        "except ImportError:\n",
        "    in_colab = False\n",
        "\n",
        "#  Install if in Colab\n",
        "if in_colab:\n",
        "    # %pip install sparse_autoencoder transformer_lens transformers wandb\n",
        "    # %pip install sparse_autoencoder_fork1==0.0.3 transformer_lens transformers wandb\n",
        "    pass\n",
        "\n",
        "# Otherwise enable hot reloading in dev mode\n",
        "if not in_colab:\n",
        "    %load_ext autoreload\n",
        "    %autoreload 2"
      ],
      "metadata": {
        "id": "W-xZ2p-GFehT"
      },
      "execution_count": 16,
      "outputs": []
    },
    {
      "cell_type": "code",
      "source": [
        "%cd /content/sparse_autoencoder-main\n",
        "!poetry export > requirements.txt"
      ],
      "metadata": {
        "colab": {
          "base_uri": "https://localhost:8080/"
        },
        "id": "aGNXWlJm5RgA",
        "outputId": "25ad9661-04a7-4899-8be8-bb2bda002831"
      },
      "execution_count": 27,
      "outputs": [
        {
          "output_type": "stream",
          "name": "stdout",
          "text": [
            "/content/sparse_autoencoder-main\n",
            "Warning: poetry-plugin-export will not be installed by default in a future version of Poetry.\n",
            "In order to avoid a breaking change and make your automation forward-compatible, please install poetry-plugin-export explicitly. See https://python-poetry.org/docs/plugins/#using-plugins for details on how to install a plugin.\n",
            "To disable this warning run 'poetry config warnings.export false'.\n"
          ]
        }
      ]
    },
    {
      "cell_type": "code",
      "source": [
        "%pip install -r requirements.txt --quiet"
      ],
      "metadata": {
        "colab": {
          "base_uri": "https://localhost:8080/"
        },
        "id": "kiCQZZiF5YnY",
        "outputId": "7737a4bd-493d-4195-cb82-3d5b33241eee"
      },
      "execution_count": 28,
      "outputs": [
        {
          "output_type": "stream",
          "name": "stdout",
          "text": [
            "\u001b[2K     \u001b[90m━━━━━━━━━━━━━━━━━━━━━━━━━━━━━━━━━━━━━━━━\u001b[0m \u001b[32m1.2/1.2 MB\u001b[0m \u001b[31m10.2 MB/s\u001b[0m eta \u001b[36m0:00:00\u001b[0m\n",
            "\u001b[2K     \u001b[90m━━━━━━━━━━━━━━━━━━━━━━━━━━━━━━━━━━━━━━━━\u001b[0m \u001b[32m162.5/162.5 kB\u001b[0m \u001b[31m10.7 MB/s\u001b[0m eta \u001b[36m0:00:00\u001b[0m\n",
            "\u001b[2K     \u001b[90m━━━━━━━━━━━━━━━━━━━━━━━━━━━━━━━━━━━━━━━━\u001b[0m \u001b[32m507.1/507.1 kB\u001b[0m \u001b[31m16.6 MB/s\u001b[0m eta \u001b[36m0:00:00\u001b[0m\n",
            "\u001b[2K     \u001b[90m━━━━━━━━━━━━━━━━━━━━━━━━━━━━━━━━━━━━━━━━\u001b[0m \u001b[32m1.3/1.3 MB\u001b[0m \u001b[31m21.5 MB/s\u001b[0m eta \u001b[36m0:00:00\u001b[0m\n",
            "\u001b[?25h  Preparing metadata (setup.py) ... \u001b[?25l\u001b[?25hdone\n",
            "\u001b[2K     \u001b[90m━━━━━━━━━━━━━━━━━━━━━━━━━━━━━━━━━━━━━━━━\u001b[0m \u001b[32m115.3/115.3 kB\u001b[0m \u001b[31m14.8 MB/s\u001b[0m eta \u001b[36m0:00:00\u001b[0m\n",
            "\u001b[2K     \u001b[90m━━━━━━━━━━━━━━━━━━━━━━━━━━━━━━━━━━━━━━━━\u001b[0m \u001b[32m44.6/44.6 kB\u001b[0m \u001b[31m5.9 MB/s\u001b[0m eta \u001b[36m0:00:00\u001b[0m\n",
            "\u001b[2K     \u001b[90m━━━━━━━━━━━━━━━━━━━━━━━━━━━━━━━━━━━━━━━━\u001b[0m \u001b[32m166.4/166.4 kB\u001b[0m \u001b[31m20.2 MB/s\u001b[0m eta \u001b[36m0:00:00\u001b[0m\n",
            "\u001b[2K     \u001b[90m━━━━━━━━━━━━━━━━━━━━━━━━━━━━━━━━━━━━━━━━\u001b[0m \u001b[32m62.7/62.7 kB\u001b[0m \u001b[31m8.5 MB/s\u001b[0m eta \u001b[36m0:00:00\u001b[0m\n",
            "\u001b[2K     \u001b[90m━━━━━━━━━━━━━━━━━━━━━━━━━━━━━━━━━━━━━━━━\u001b[0m \u001b[32m196.4/196.4 kB\u001b[0m \u001b[31m22.1 MB/s\u001b[0m eta \u001b[36m0:00:00\u001b[0m\n",
            "\u001b[2K     \u001b[90m━━━━━━━━━━━━━━━━━━━━━━━━━━━━━━━━━━━━━━━━\u001b[0m \u001b[32m54.0/54.0 kB\u001b[0m \u001b[31m8.3 MB/s\u001b[0m eta \u001b[36m0:00:00\u001b[0m\n",
            "\u001b[2K     \u001b[90m━━━━━━━━━━━━━━━━━━━━━━━━━━━━━━━━━━━━━━━━\u001b[0m \u001b[32m330.1/330.1 kB\u001b[0m \u001b[31m21.9 MB/s\u001b[0m eta \u001b[36m0:00:00\u001b[0m\n",
            "\u001b[2K     \u001b[90m━━━━━━━━━━━━━━━━━━━━━━━━━━━━━━━━━━━━━━━━\u001b[0m \u001b[32m61.6/61.6 kB\u001b[0m \u001b[31m8.8 MB/s\u001b[0m eta \u001b[36m0:00:00\u001b[0m\n",
            "\u001b[2K     \u001b[90m━━━━━━━━━━━━━━━━━━━━━━━━━━━━━━━━━━━━━━━━\u001b[0m \u001b[32m133.2/133.2 kB\u001b[0m \u001b[31m20.0 MB/s\u001b[0m eta \u001b[36m0:00:00\u001b[0m\n",
            "\u001b[2K     \u001b[90m━━━━━━━━━━━━━━━━━━━━━━━━━━━━━━━━━━━━━━━━\u001b[0m \u001b[32m2.0/2.0 MB\u001b[0m \u001b[31m30.5 MB/s\u001b[0m eta \u001b[36m0:00:00\u001b[0m\n",
            "\u001b[2K     \u001b[90m━━━━━━━━━━━━━━━━━━━━━━━━━━━━━━━━━━━━━━━━\u001b[0m \u001b[32m114.5/114.5 kB\u001b[0m \u001b[31m15.4 MB/s\u001b[0m eta \u001b[36m0:00:00\u001b[0m\n",
            "\u001b[2K     \u001b[90m━━━━━━━━━━━━━━━━━━━━━━━━━━━━━━━━━━━━━━━━\u001b[0m \u001b[32m134.8/134.8 kB\u001b[0m \u001b[31m17.9 MB/s\u001b[0m eta \u001b[36m0:00:00\u001b[0m\n",
            "\u001b[2K     \u001b[90m━━━━━━━━━━━━━━━━━━━━━━━━━━━━━━━━━━━━━━━━\u001b[0m \u001b[32m1.6/1.6 MB\u001b[0m \u001b[31m37.7 MB/s\u001b[0m eta \u001b[36m0:00:00\u001b[0m\n",
            "\u001b[2K     \u001b[90m━━━━━━━━━━━━━━━━━━━━━━━━━━━━━━━━━━━━━━━━\u001b[0m \u001b[32m307.2/307.2 kB\u001b[0m \u001b[31m31.9 MB/s\u001b[0m eta \u001b[36m0:00:00\u001b[0m\n",
            "\u001b[2K     \u001b[90m━━━━━━━━━━━━━━━━━━━━━━━━━━━━━━━━━━━━━━━━\u001b[0m \u001b[32m18.2/18.2 MB\u001b[0m \u001b[31m51.1 MB/s\u001b[0m eta \u001b[36m0:00:00\u001b[0m\n",
            "\u001b[2K     \u001b[90m━━━━━━━━━━━━━━━━━━━━━━━━━━━━━━━━━━━━━━━━\u001b[0m \u001b[32m209.8/209.8 MB\u001b[0m \u001b[31m1.9 MB/s\u001b[0m eta \u001b[36m0:00:00\u001b[0m\n",
            "\u001b[2K     \u001b[90m━━━━━━━━━━━━━━━━━━━━━━━━━━━━━━━━━━━━━━━━\u001b[0m \u001b[32m20.5/20.5 MB\u001b[0m \u001b[31m77.6 MB/s\u001b[0m eta \u001b[36m0:00:00\u001b[0m\n",
            "\u001b[2K     \u001b[90m━━━━━━━━━━━━━━━━━━━━━━━━━━━━━━━━━━━━━━━━\u001b[0m \u001b[32m53.0/53.0 kB\u001b[0m \u001b[31m6.7 MB/s\u001b[0m eta \u001b[36m0:00:00\u001b[0m\n",
            "\u001b[2K     \u001b[90m━━━━━━━━━━━━━━━━━━━━━━━━━━━━━━━━━━━━━━━━\u001b[0m \u001b[32m13.0/13.0 MB\u001b[0m \u001b[31m75.1 MB/s\u001b[0m eta \u001b[36m0:00:00\u001b[0m\n",
            "\u001b[2K     \u001b[90m━━━━━━━━━━━━━━━━━━━━━━━━━━━━━━━━━━━━━━━━\u001b[0m \u001b[32m294.6/294.6 kB\u001b[0m \u001b[31m30.2 MB/s\u001b[0m eta \u001b[36m0:00:00\u001b[0m\n",
            "\u001b[2K     \u001b[90m━━━━━━━━━━━━━━━━━━━━━━━━━━━━━━━━━━━━━━━━\u001b[0m \u001b[32m288.2/288.2 kB\u001b[0m \u001b[31m25.2 MB/s\u001b[0m eta \u001b[36m0:00:00\u001b[0m\n",
            "\u001b[2K     \u001b[90m━━━━━━━━━━━━━━━━━━━━━━━━━━━━━━━━━━━━━━━━\u001b[0m \u001b[32m38.3/38.3 MB\u001b[0m \u001b[31m13.5 MB/s\u001b[0m eta \u001b[36m0:00:00\u001b[0m\n",
            "\u001b[2K     \u001b[90m━━━━━━━━━━━━━━━━━━━━━━━━━━━━━━━━━━━━━━━━\u001b[0m \u001b[32m2.2/2.2 MB\u001b[0m \u001b[31m91.2 MB/s\u001b[0m eta \u001b[36m0:00:00\u001b[0m\n",
            "\u001b[2K     \u001b[90m━━━━━━━━━━━━━━━━━━━━━━━━━━━━━━━━━━━━━━━━\u001b[0m \u001b[32m394.2/394.2 kB\u001b[0m \u001b[31m43.3 MB/s\u001b[0m eta \u001b[36m0:00:00\u001b[0m\n",
            "\u001b[2K     \u001b[90m━━━━━━━━━━━━━━━━━━━━━━━━━━━━━━━━━━━━━━━━\u001b[0m \u001b[32m53.1/53.1 kB\u001b[0m \u001b[31m8.0 MB/s\u001b[0m eta \u001b[36m0:00:00\u001b[0m\n",
            "\u001b[2K     \u001b[90m━━━━━━━━━━━━━━━━━━━━━━━━━━━━━━━━━━━━━━━━\u001b[0m \u001b[32m777.7/777.7 kB\u001b[0m \u001b[31m58.7 MB/s\u001b[0m eta \u001b[36m0:00:00\u001b[0m\n",
            "\u001b[2K     \u001b[90m━━━━━━━━━━━━━━━━━━━━━━━━━━━━━━━━━━━━━━━━\u001b[0m \u001b[32m774.0/774.0 kB\u001b[0m \u001b[31m62.2 MB/s\u001b[0m eta \u001b[36m0:00:00\u001b[0m\n",
            "\u001b[2K     \u001b[90m━━━━━━━━━━━━━━━━━━━━━━━━━━━━━━━━━━━━━━━━\u001b[0m \u001b[32m1.3/1.3 MB\u001b[0m \u001b[31m73.1 MB/s\u001b[0m eta \u001b[36m0:00:00\u001b[0m\n",
            "\u001b[2K     \u001b[90m━━━━━━━━━━━━━━━━━━━━━━━━━━━━━━━━━━━━━━━━\u001b[0m \u001b[32m254.1/254.1 kB\u001b[0m \u001b[31m27.4 MB/s\u001b[0m eta \u001b[36m0:00:00\u001b[0m\n",
            "\u001b[2K     \u001b[90m━━━━━━━━━━━━━━━━━━━━━━━━━━━━━━━━━━━━━━━━\u001b[0m \u001b[32m819.5/819.5 kB\u001b[0m \u001b[31m62.2 MB/s\u001b[0m eta \u001b[36m0:00:00\u001b[0m\n",
            "\u001b[2K     \u001b[90m━━━━━━━━━━━━━━━━━━━━━━━━━━━━━━━━━━━━━━━━\u001b[0m \u001b[32m5.7/5.7 MB\u001b[0m \u001b[31m88.6 MB/s\u001b[0m eta \u001b[36m0:00:00\u001b[0m\n",
            "\u001b[2K     \u001b[90m━━━━━━━━━━━━━━━━━━━━━━━━━━━━━━━━━━━━━━━━\u001b[0m \u001b[32m3.6/3.6 MB\u001b[0m \u001b[31m76.7 MB/s\u001b[0m eta \u001b[36m0:00:00\u001b[0m\n",
            "\u001b[2K     \u001b[90m━━━━━━━━━━━━━━━━━━━━━━━━━━━━━━━━━━━━━━━━\u001b[0m \u001b[32m670.2/670.2 MB\u001b[0m \u001b[31m781.4 kB/s\u001b[0m eta \u001b[36m0:00:00\u001b[0m\n",
            "\u001b[2K     \u001b[90m━━━━━━━━━━━━━━━━━━━━━━━━━━━━━━━━━━━━━━━━\u001b[0m \u001b[32m840.2/840.2 kB\u001b[0m \u001b[31m64.2 MB/s\u001b[0m eta \u001b[36m0:00:00\u001b[0m\n",
            "\u001b[2K     \u001b[90m━━━━━━━━━━━━━━━━━━━━━━━━━━━━━━━━━━━━━━━━\u001b[0m \u001b[32m78.3/78.3 kB\u001b[0m \u001b[31m11.6 MB/s\u001b[0m eta \u001b[36m0:00:00\u001b[0m\n",
            "\u001b[2K     \u001b[90m━━━━━━━━━━━━━━━━━━━━━━━━━━━━━━━━━━━━━━━━\u001b[0m \u001b[32m8.4/8.4 MB\u001b[0m \u001b[31m87.9 MB/s\u001b[0m eta \u001b[36m0:00:00\u001b[0m\n",
            "\u001b[2K     \u001b[90m━━━━━━━━━━━━━━━━━━━━━━━━━━━━━━━━━━━━━━━━\u001b[0m \u001b[32m89.2/89.2 MB\u001b[0m \u001b[31m9.5 MB/s\u001b[0m eta \u001b[36m0:00:00\u001b[0m\n",
            "\u001b[2K     \u001b[90m━━━━━━━━━━━━━━━━━━━━━━━━━━━━━━━━━━━━━━━━\u001b[0m \u001b[32m346.6/346.6 kB\u001b[0m \u001b[31m35.0 MB/s\u001b[0m eta \u001b[36m0:00:00\u001b[0m\n",
            "\u001b[2K     \u001b[90m━━━━━━━━━━━━━━━━━━━━━━━━━━━━━━━━━━━━━━━━\u001b[0m \u001b[32m104.6/104.6 kB\u001b[0m \u001b[31m13.1 MB/s\u001b[0m eta \u001b[36m0:00:00\u001b[0m\n",
            "\u001b[2K     \u001b[90m━━━━━━━━━━━━━━━━━━━━━━━━━━━━━━━━━━━━━━━━\u001b[0m \u001b[32m2.2/2.2 MB\u001b[0m \u001b[31m85.4 MB/s\u001b[0m eta \u001b[36m0:00:00\u001b[0m\n",
            "\u001b[2K     \u001b[90m━━━━━━━━━━━━━━━━━━━━━━━━━━━━━━━━━━━━━━━━\u001b[0m \u001b[32m194.1/194.1 kB\u001b[0m \u001b[31m25.2 MB/s\u001b[0m eta \u001b[36m0:00:00\u001b[0m\n",
            "\u001b[2K     \u001b[90m━━━━━━━━━━━━━━━━━━━━━━━━━━━━━━━━━━━━━━━━\u001b[0m \u001b[32m5.4/5.4 MB\u001b[0m \u001b[31m108.4 MB/s\u001b[0m eta \u001b[36m0:00:00\u001b[0m\n",
            "\u001b[?25h\u001b[33mWARNING: deepspeed 0.13.1 does not provide the extra 'deepspeed'\u001b[0m\u001b[33m\n",
            "\u001b[0m  Building wheel for deepspeed (setup.py) ... \u001b[?25l\u001b[?25hdone\n",
            "\u001b[31mERROR: pip's dependency resolver does not currently take into account all the packages that are installed. This behaviour is the source of the following dependency conflicts.\n",
            "ipython 7.34.0 requires jedi>=0.16, which is not installed.\n",
            "cudf-cu12 24.4.1 requires pyarrow<15.0.0a0,>=14.0.1, but you have pyarrow 15.0.0 which is incompatible.\n",
            "gcsfs 2023.6.0 requires fsspec==2023.6.0, but you have fsspec 2023.10.0 which is incompatible.\n",
            "google-colab 1.0.0 requires pandas==2.0.3, but you have pandas 2.2.0 which is incompatible.\n",
            "tensorflow-metadata 1.15.0 requires protobuf<4.21,>=3.20.3; python_version < \"3.11\", but you have protobuf 4.25.2 which is incompatible.\n",
            "torchaudio 2.3.0+cu121 requires torch==2.3.0, but you have torch 2.1.2 which is incompatible.\n",
            "torchtext 0.18.0 requires torch>=2.3.0, but you have torch 2.1.2 which is incompatible.\n",
            "torchvision 0.18.0+cu121 requires torch==2.3.0, but you have torch 2.1.2 which is incompatible.\u001b[0m\u001b[31m\n",
            "\u001b[0m"
          ]
        }
      ]
    },
    {
      "cell_type": "code",
      "execution_count": 35,
      "metadata": {
        "colab": {
          "base_uri": "https://localhost:8080/",
          "height": 365
        },
        "id": "aZXlkEl8FTr9",
        "outputId": "2d4c63d2-cc49-46c5-b636-e8621fb7076a"
      },
      "outputs": [
        {
          "output_type": "error",
          "ename": "AttributeError",
          "evalue": "module 'torch._functorch.eager_transforms' has no attribute 'grad_and_value'",
          "traceback": [
            "\u001b[0;31m---------------------------------------------------------------------------\u001b[0m",
            "\u001b[0;31mAttributeError\u001b[0m                            Traceback (most recent call last)",
            "\u001b[0;32m<ipython-input-35-ef2a52074e18>\u001b[0m in \u001b[0;36m<cell line: 3>\u001b[0;34m()\u001b[0m\n\u001b[1;32m      1\u001b[0m \u001b[0;32mimport\u001b[0m \u001b[0mos\u001b[0m\u001b[0;34m\u001b[0m\u001b[0;34m\u001b[0m\u001b[0m\n\u001b[1;32m      2\u001b[0m \u001b[0;34m\u001b[0m\u001b[0m\n\u001b[0;32m----> 3\u001b[0;31m from sparse_autoencoder import (\n\u001b[0m\u001b[1;32m      4\u001b[0m     \u001b[0mActivationResamplerHyperparameters\u001b[0m\u001b[0;34m,\u001b[0m\u001b[0;34m\u001b[0m\u001b[0;34m\u001b[0m\u001b[0m\n\u001b[1;32m      5\u001b[0m     \u001b[0mAutoencoderHyperparameters\u001b[0m\u001b[0;34m,\u001b[0m\u001b[0;34m\u001b[0m\u001b[0;34m\u001b[0m\u001b[0m\n",
            "\u001b[0;32m/content/sparse_autoencoder-main/sparse_autoencoder/__init__.py\u001b[0m in \u001b[0;36m<module>\u001b[0;34m\u001b[0m\n\u001b[1;32m      1\u001b[0m \u001b[0;34m\"\"\"Sparse Autoencoder Library.\"\"\"\u001b[0m\u001b[0;34m\u001b[0m\u001b[0;34m\u001b[0m\u001b[0m\n\u001b[0;32m----> 2\u001b[0;31m \u001b[0;32mfrom\u001b[0m \u001b[0msparse_autoencoder\u001b[0m\u001b[0;34m.\u001b[0m\u001b[0mactivation_resampler\u001b[0m\u001b[0;34m.\u001b[0m\u001b[0mactivation_resampler\u001b[0m \u001b[0;32mimport\u001b[0m \u001b[0mActivationResampler\u001b[0m\u001b[0;34m\u001b[0m\u001b[0;34m\u001b[0m\u001b[0m\n\u001b[0m\u001b[1;32m      3\u001b[0m \u001b[0;32mfrom\u001b[0m \u001b[0msparse_autoencoder\u001b[0m\u001b[0;34m.\u001b[0m\u001b[0mactivation_store\u001b[0m\u001b[0;34m.\u001b[0m\u001b[0mtensor_store\u001b[0m \u001b[0;32mimport\u001b[0m \u001b[0mTensorActivationStore\u001b[0m\u001b[0;34m\u001b[0m\u001b[0;34m\u001b[0m\u001b[0m\n\u001b[1;32m      4\u001b[0m \u001b[0;32mfrom\u001b[0m \u001b[0msparse_autoencoder\u001b[0m\u001b[0;34m.\u001b[0m\u001b[0mautoencoder\u001b[0m\u001b[0;34m.\u001b[0m\u001b[0mmodel\u001b[0m \u001b[0;32mimport\u001b[0m \u001b[0mSparseAutoencoder\u001b[0m\u001b[0;34m,\u001b[0m \u001b[0mSparseAutoencoderConfig\u001b[0m\u001b[0;34m\u001b[0m\u001b[0;34m\u001b[0m\u001b[0m\n\u001b[1;32m      5\u001b[0m \u001b[0;32mfrom\u001b[0m \u001b[0msparse_autoencoder\u001b[0m\u001b[0;34m.\u001b[0m\u001b[0mmetrics\u001b[0m\u001b[0;34m.\u001b[0m\u001b[0mloss\u001b[0m\u001b[0;34m.\u001b[0m\u001b[0ml1_absolute_loss\u001b[0m \u001b[0;32mimport\u001b[0m \u001b[0mL1AbsoluteLoss\u001b[0m\u001b[0;34m\u001b[0m\u001b[0;34m\u001b[0m\u001b[0m\n",
            "\u001b[0;32m/content/sparse_autoencoder-main/sparse_autoencoder/activation_resampler/activation_resampler.py\u001b[0m in \u001b[0;36m<module>\u001b[0;34m\u001b[0m\n\u001b[1;32m     10\u001b[0m \u001b[0;32mfrom\u001b[0m \u001b[0mtorch\u001b[0m\u001b[0;34m.\u001b[0m\u001b[0mdistributed\u001b[0m \u001b[0;32mimport\u001b[0m \u001b[0mget_world_size\u001b[0m\u001b[0;34m,\u001b[0m \u001b[0mgroup\u001b[0m\u001b[0;34m\u001b[0m\u001b[0;34m\u001b[0m\u001b[0m\n\u001b[1;32m     11\u001b[0m \u001b[0;32mfrom\u001b[0m \u001b[0mtorch\u001b[0m\u001b[0;34m.\u001b[0m\u001b[0mnn\u001b[0m \u001b[0;32mimport\u001b[0m \u001b[0mParameter\u001b[0m\u001b[0;34m\u001b[0m\u001b[0;34m\u001b[0m\u001b[0m\n\u001b[0;32m---> 12\u001b[0;31m \u001b[0;32mfrom\u001b[0m \u001b[0mtorchmetrics\u001b[0m \u001b[0;32mimport\u001b[0m \u001b[0mMetric\u001b[0m\u001b[0;34m\u001b[0m\u001b[0;34m\u001b[0m\u001b[0m\n\u001b[0m\u001b[1;32m     13\u001b[0m \u001b[0;32mfrom\u001b[0m \u001b[0mtorchmetrics\u001b[0m\u001b[0;34m.\u001b[0m\u001b[0mutilities\u001b[0m \u001b[0;32mimport\u001b[0m \u001b[0mdim_zero_cat\u001b[0m\u001b[0;34m\u001b[0m\u001b[0;34m\u001b[0m\u001b[0m\n\u001b[1;32m     14\u001b[0m \u001b[0;34m\u001b[0m\u001b[0m\n",
            "\u001b[0;32m/content/venv/torchmetrics/__init__.py\u001b[0m in \u001b[0;36m<module>\u001b[0;34m\u001b[0m\n\u001b[1;32m     20\u001b[0m         \u001b[0mPIL\u001b[0m\u001b[0;34m.\u001b[0m\u001b[0mPILLOW_VERSION\u001b[0m \u001b[0;34m=\u001b[0m \u001b[0mPIL\u001b[0m\u001b[0;34m.\u001b[0m\u001b[0m__version__\u001b[0m\u001b[0;34m\u001b[0m\u001b[0;34m\u001b[0m\u001b[0m\n\u001b[1;32m     21\u001b[0m \u001b[0;34m\u001b[0m\u001b[0m\n\u001b[0;32m---> 22\u001b[0;31m \u001b[0;32mfrom\u001b[0m \u001b[0mtorchmetrics\u001b[0m \u001b[0;32mimport\u001b[0m \u001b[0mfunctional\u001b[0m  \u001b[0;31m# noqa: E402\u001b[0m\u001b[0;34m\u001b[0m\u001b[0;34m\u001b[0m\u001b[0m\n\u001b[0m\u001b[1;32m     23\u001b[0m from torchmetrics.aggregation import (  # noqa: E402\n\u001b[1;32m     24\u001b[0m     \u001b[0mCatMetric\u001b[0m\u001b[0;34m,\u001b[0m\u001b[0;34m\u001b[0m\u001b[0;34m\u001b[0m\u001b[0m\n",
            "\u001b[0;32m/content/venv/torchmetrics/functional/__init__.py\u001b[0m in \u001b[0;36m<module>\u001b[0;34m\u001b[0m\n\u001b[1;32m     12\u001b[0m \u001b[0;31m# See the License for the specific language governing permissions and\u001b[0m\u001b[0;34m\u001b[0m\u001b[0;34m\u001b[0m\u001b[0m\n\u001b[1;32m     13\u001b[0m \u001b[0;31m# limitations under the License.\u001b[0m\u001b[0;34m\u001b[0m\u001b[0;34m\u001b[0m\u001b[0m\n\u001b[0;32m---> 14\u001b[0;31m \u001b[0;32mfrom\u001b[0m \u001b[0mtorchmetrics\u001b[0m\u001b[0;34m.\u001b[0m\u001b[0mfunctional\u001b[0m\u001b[0;34m.\u001b[0m\u001b[0maudio\u001b[0m\u001b[0;34m.\u001b[0m\u001b[0m_deprecated\u001b[0m \u001b[0;32mimport\u001b[0m \u001b[0m_permutation_invariant_training\u001b[0m \u001b[0;32mas\u001b[0m \u001b[0mpermutation_invariant_training\u001b[0m\u001b[0;34m\u001b[0m\u001b[0;34m\u001b[0m\u001b[0m\n\u001b[0m\u001b[1;32m     15\u001b[0m \u001b[0;32mfrom\u001b[0m \u001b[0mtorchmetrics\u001b[0m\u001b[0;34m.\u001b[0m\u001b[0mfunctional\u001b[0m\u001b[0;34m.\u001b[0m\u001b[0maudio\u001b[0m\u001b[0;34m.\u001b[0m\u001b[0m_deprecated\u001b[0m \u001b[0;32mimport\u001b[0m \u001b[0m_pit_permutate\u001b[0m \u001b[0;32mas\u001b[0m \u001b[0mpit_permutate\u001b[0m\u001b[0;34m\u001b[0m\u001b[0;34m\u001b[0m\u001b[0m\n\u001b[1;32m     16\u001b[0m from torchmetrics.functional.audio._deprecated import (\n",
            "\u001b[0;32m/content/venv/torchmetrics/functional/audio/__init__.py\u001b[0m in \u001b[0;36m<module>\u001b[0;34m\u001b[0m\n\u001b[1;32m     12\u001b[0m \u001b[0;31m# See the License for the specific language governing permissions and\u001b[0m\u001b[0;34m\u001b[0m\u001b[0;34m\u001b[0m\u001b[0m\n\u001b[1;32m     13\u001b[0m \u001b[0;31m# limitations under the License.\u001b[0m\u001b[0;34m\u001b[0m\u001b[0;34m\u001b[0m\u001b[0m\n\u001b[0;32m---> 14\u001b[0;31m \u001b[0;32mfrom\u001b[0m \u001b[0mtorchmetrics\u001b[0m\u001b[0;34m.\u001b[0m\u001b[0mfunctional\u001b[0m\u001b[0;34m.\u001b[0m\u001b[0maudio\u001b[0m\u001b[0;34m.\u001b[0m\u001b[0mpit\u001b[0m \u001b[0;32mimport\u001b[0m \u001b[0mpermutation_invariant_training\u001b[0m\u001b[0;34m,\u001b[0m \u001b[0mpit_permutate\u001b[0m\u001b[0;34m\u001b[0m\u001b[0;34m\u001b[0m\u001b[0m\n\u001b[0m\u001b[1;32m     15\u001b[0m from torchmetrics.functional.audio.sdr import (\n\u001b[1;32m     16\u001b[0m     \u001b[0mscale_invariant_signal_distortion_ratio\u001b[0m\u001b[0;34m,\u001b[0m\u001b[0;34m\u001b[0m\u001b[0;34m\u001b[0m\u001b[0m\n",
            "\u001b[0;32m/content/venv/torchmetrics/functional/audio/pit.py\u001b[0m in \u001b[0;36m<module>\u001b[0;34m\u001b[0m\n\u001b[1;32m     20\u001b[0m \u001b[0;32mfrom\u001b[0m \u001b[0mtyping_extensions\u001b[0m \u001b[0;32mimport\u001b[0m \u001b[0mLiteral\u001b[0m\u001b[0;34m\u001b[0m\u001b[0;34m\u001b[0m\u001b[0m\n\u001b[1;32m     21\u001b[0m \u001b[0;34m\u001b[0m\u001b[0m\n\u001b[0;32m---> 22\u001b[0;31m \u001b[0;32mfrom\u001b[0m \u001b[0mtorchmetrics\u001b[0m\u001b[0;34m.\u001b[0m\u001b[0mutilities\u001b[0m \u001b[0;32mimport\u001b[0m \u001b[0mrank_zero_warn\u001b[0m\u001b[0;34m\u001b[0m\u001b[0;34m\u001b[0m\u001b[0m\n\u001b[0m\u001b[1;32m     23\u001b[0m \u001b[0;32mfrom\u001b[0m \u001b[0mtorchmetrics\u001b[0m\u001b[0;34m.\u001b[0m\u001b[0mutilities\u001b[0m\u001b[0;34m.\u001b[0m\u001b[0mimports\u001b[0m \u001b[0;32mimport\u001b[0m \u001b[0m_SCIPY_AVAILABLE\u001b[0m\u001b[0;34m\u001b[0m\u001b[0;34m\u001b[0m\u001b[0m\n\u001b[1;32m     24\u001b[0m \u001b[0;34m\u001b[0m\u001b[0m\n",
            "\u001b[0;32m/content/venv/torchmetrics/utilities/__init__.py\u001b[0m in \u001b[0;36m<module>\u001b[0;34m\u001b[0m\n\u001b[1;32m     12\u001b[0m \u001b[0;31m# See the License for the specific language governing permissions and\u001b[0m\u001b[0;34m\u001b[0m\u001b[0;34m\u001b[0m\u001b[0m\n\u001b[1;32m     13\u001b[0m \u001b[0;31m# limitations under the License.\u001b[0m\u001b[0;34m\u001b[0m\u001b[0;34m\u001b[0m\u001b[0m\n\u001b[0;32m---> 14\u001b[0;31m \u001b[0;32mfrom\u001b[0m \u001b[0mtorchmetrics\u001b[0m\u001b[0;34m.\u001b[0m\u001b[0mutilities\u001b[0m\u001b[0;34m.\u001b[0m\u001b[0mchecks\u001b[0m \u001b[0;32mimport\u001b[0m \u001b[0mcheck_forward_full_state_property\u001b[0m\u001b[0;34m\u001b[0m\u001b[0;34m\u001b[0m\u001b[0m\n\u001b[0m\u001b[1;32m     15\u001b[0m from torchmetrics.utilities.data import (\n\u001b[1;32m     16\u001b[0m     \u001b[0mdim_zero_cat\u001b[0m\u001b[0;34m,\u001b[0m\u001b[0;34m\u001b[0m\u001b[0;34m\u001b[0m\u001b[0m\n",
            "\u001b[0;32m/content/venv/torchmetrics/utilities/checks.py\u001b[0m in \u001b[0;36m<module>\u001b[0;34m\u001b[0m\n\u001b[1;32m     23\u001b[0m \u001b[0;32mfrom\u001b[0m \u001b[0mtorch\u001b[0m \u001b[0;32mimport\u001b[0m \u001b[0mTensor\u001b[0m\u001b[0;34m\u001b[0m\u001b[0;34m\u001b[0m\u001b[0m\n\u001b[1;32m     24\u001b[0m \u001b[0;34m\u001b[0m\u001b[0m\n\u001b[0;32m---> 25\u001b[0;31m \u001b[0;32mfrom\u001b[0m \u001b[0mtorchmetrics\u001b[0m\u001b[0;34m.\u001b[0m\u001b[0mmetric\u001b[0m \u001b[0;32mimport\u001b[0m \u001b[0mMetric\u001b[0m\u001b[0;34m\u001b[0m\u001b[0;34m\u001b[0m\u001b[0m\n\u001b[0m\u001b[1;32m     26\u001b[0m \u001b[0;32mfrom\u001b[0m \u001b[0mtorchmetrics\u001b[0m\u001b[0;34m.\u001b[0m\u001b[0mutilities\u001b[0m\u001b[0;34m.\u001b[0m\u001b[0mdata\u001b[0m \u001b[0;32mimport\u001b[0m \u001b[0mselect_topk\u001b[0m\u001b[0;34m,\u001b[0m \u001b[0mto_onehot\u001b[0m\u001b[0;34m\u001b[0m\u001b[0;34m\u001b[0m\u001b[0m\n\u001b[1;32m     27\u001b[0m \u001b[0;32mfrom\u001b[0m \u001b[0mtorchmetrics\u001b[0m\u001b[0;34m.\u001b[0m\u001b[0mutilities\u001b[0m\u001b[0;34m.\u001b[0m\u001b[0menums\u001b[0m \u001b[0;32mimport\u001b[0m \u001b[0mDataType\u001b[0m\u001b[0;34m\u001b[0m\u001b[0;34m\u001b[0m\u001b[0m\n",
            "\u001b[0;32m/content/venv/torchmetrics/metric.py\u001b[0m in \u001b[0;36m<module>\u001b[0;34m\u001b[0m\n\u001b[1;32m     28\u001b[0m \u001b[0;32mfrom\u001b[0m \u001b[0mtorch\u001b[0m\u001b[0;34m.\u001b[0m\u001b[0mnn\u001b[0m \u001b[0;32mimport\u001b[0m \u001b[0mModule\u001b[0m\u001b[0;34m\u001b[0m\u001b[0;34m\u001b[0m\u001b[0m\n\u001b[1;32m     29\u001b[0m \u001b[0;34m\u001b[0m\u001b[0m\n\u001b[0;32m---> 30\u001b[0;31m from torchmetrics.utilities.data import (\n\u001b[0m\u001b[1;32m     31\u001b[0m     \u001b[0m_flatten\u001b[0m\u001b[0;34m,\u001b[0m\u001b[0;34m\u001b[0m\u001b[0;34m\u001b[0m\u001b[0m\n\u001b[1;32m     32\u001b[0m     \u001b[0m_squeeze_if_scalar\u001b[0m\u001b[0;34m,\u001b[0m\u001b[0;34m\u001b[0m\u001b[0;34m\u001b[0m\u001b[0m\n",
            "\u001b[0;32m/content/venv/torchmetrics/utilities/data.py\u001b[0m in \u001b[0;36m<module>\u001b[0;34m\u001b[0m\n\u001b[1;32m     20\u001b[0m \u001b[0;34m\u001b[0m\u001b[0m\n\u001b[1;32m     21\u001b[0m \u001b[0;32mfrom\u001b[0m \u001b[0mtorchmetrics\u001b[0m\u001b[0;34m.\u001b[0m\u001b[0mutilities\u001b[0m\u001b[0;34m.\u001b[0m\u001b[0mexceptions\u001b[0m \u001b[0;32mimport\u001b[0m \u001b[0mTorchMetricsUserWarning\u001b[0m\u001b[0;34m\u001b[0m\u001b[0;34m\u001b[0m\u001b[0m\n\u001b[0;32m---> 22\u001b[0;31m \u001b[0;32mfrom\u001b[0m \u001b[0mtorchmetrics\u001b[0m\u001b[0;34m.\u001b[0m\u001b[0mutilities\u001b[0m\u001b[0;34m.\u001b[0m\u001b[0mimports\u001b[0m \u001b[0;32mimport\u001b[0m \u001b[0m_TORCH_GREATER_EQUAL_1_12\u001b[0m\u001b[0;34m,\u001b[0m \u001b[0m_TORCH_GREATER_EQUAL_1_13\u001b[0m\u001b[0;34m,\u001b[0m \u001b[0m_XLA_AVAILABLE\u001b[0m\u001b[0;34m\u001b[0m\u001b[0;34m\u001b[0m\u001b[0m\n\u001b[0m\u001b[1;32m     23\u001b[0m \u001b[0;32mfrom\u001b[0m \u001b[0mtorchmetrics\u001b[0m\u001b[0;34m.\u001b[0m\u001b[0mutilities\u001b[0m\u001b[0;34m.\u001b[0m\u001b[0mprints\u001b[0m \u001b[0;32mimport\u001b[0m \u001b[0mrank_zero_warn\u001b[0m\u001b[0;34m\u001b[0m\u001b[0;34m\u001b[0m\u001b[0m\n\u001b[1;32m     24\u001b[0m \u001b[0;34m\u001b[0m\u001b[0m\n",
            "\u001b[0;32m/content/venv/torchmetrics/utilities/imports.py\u001b[0m in \u001b[0;36m<module>\u001b[0;34m\u001b[0m\n\u001b[1;32m     40\u001b[0m \u001b[0m_PYCOCOTOOLS_AVAILABLE\u001b[0m\u001b[0;34m:\u001b[0m \u001b[0mbool\u001b[0m \u001b[0;34m=\u001b[0m \u001b[0mpackage_available\u001b[0m\u001b[0;34m(\u001b[0m\u001b[0;34m\"pycocotools\"\u001b[0m\u001b[0;34m)\u001b[0m\u001b[0;34m\u001b[0m\u001b[0;34m\u001b[0m\u001b[0m\n\u001b[1;32m     41\u001b[0m \u001b[0m_TORCHVISION_AVAILABLE\u001b[0m\u001b[0;34m:\u001b[0m \u001b[0mbool\u001b[0m \u001b[0;34m=\u001b[0m \u001b[0mpackage_available\u001b[0m\u001b[0;34m(\u001b[0m\u001b[0;34m\"torchvision\"\u001b[0m\u001b[0;34m)\u001b[0m\u001b[0;34m\u001b[0m\u001b[0;34m\u001b[0m\u001b[0m\n\u001b[0;32m---> 42\u001b[0;31m \u001b[0m_TORCHVISION_GREATER_EQUAL_0_8\u001b[0m\u001b[0;34m:\u001b[0m \u001b[0mOptional\u001b[0m\u001b[0;34m[\u001b[0m\u001b[0mbool\u001b[0m\u001b[0;34m]\u001b[0m \u001b[0;34m=\u001b[0m \u001b[0mcompare_version\u001b[0m\u001b[0;34m(\u001b[0m\u001b[0;34m\"torchvision\"\u001b[0m\u001b[0;34m,\u001b[0m \u001b[0moperator\u001b[0m\u001b[0;34m.\u001b[0m\u001b[0mge\u001b[0m\u001b[0;34m,\u001b[0m \u001b[0;34m\"0.8.0\"\u001b[0m\u001b[0;34m)\u001b[0m\u001b[0;34m\u001b[0m\u001b[0;34m\u001b[0m\u001b[0m\n\u001b[0m\u001b[1;32m     43\u001b[0m \u001b[0m_TORCHVISION_GREATER_EQUAL_0_13\u001b[0m\u001b[0;34m:\u001b[0m \u001b[0mOptional\u001b[0m\u001b[0;34m[\u001b[0m\u001b[0mbool\u001b[0m\u001b[0;34m]\u001b[0m \u001b[0;34m=\u001b[0m \u001b[0mcompare_version\u001b[0m\u001b[0;34m(\u001b[0m\u001b[0;34m\"torchvision\"\u001b[0m\u001b[0;34m,\u001b[0m \u001b[0moperator\u001b[0m\u001b[0;34m.\u001b[0m\u001b[0mge\u001b[0m\u001b[0;34m,\u001b[0m \u001b[0;34m\"0.13.0\"\u001b[0m\u001b[0;34m)\u001b[0m\u001b[0;34m\u001b[0m\u001b[0;34m\u001b[0m\u001b[0m\n\u001b[1;32m     44\u001b[0m \u001b[0m_TQDM_AVAILABLE\u001b[0m\u001b[0;34m:\u001b[0m \u001b[0mbool\u001b[0m \u001b[0;34m=\u001b[0m \u001b[0mpackage_available\u001b[0m\u001b[0;34m(\u001b[0m\u001b[0;34m\"tqdm\"\u001b[0m\u001b[0;34m)\u001b[0m\u001b[0;34m\u001b[0m\u001b[0;34m\u001b[0m\u001b[0m\n",
            "\u001b[0;32m/usr/local/lib/python3.10/dist-packages/lightning_utilities/core/imports.py\u001b[0m in \u001b[0;36mcompare_version\u001b[0;34m(package, op, version, use_base_version)\u001b[0m\n\u001b[1;32m     75\u001b[0m     \"\"\"\n\u001b[1;32m     76\u001b[0m     \u001b[0;32mtry\u001b[0m\u001b[0;34m:\u001b[0m\u001b[0;34m\u001b[0m\u001b[0;34m\u001b[0m\u001b[0m\n\u001b[0;32m---> 77\u001b[0;31m         \u001b[0mpkg\u001b[0m \u001b[0;34m=\u001b[0m \u001b[0mimportlib\u001b[0m\u001b[0;34m.\u001b[0m\u001b[0mimport_module\u001b[0m\u001b[0;34m(\u001b[0m\u001b[0mpackage\u001b[0m\u001b[0;34m)\u001b[0m\u001b[0;34m\u001b[0m\u001b[0;34m\u001b[0m\u001b[0m\n\u001b[0m\u001b[1;32m     78\u001b[0m     \u001b[0;32mexcept\u001b[0m \u001b[0;34m(\u001b[0m\u001b[0mImportError\u001b[0m\u001b[0;34m,\u001b[0m \u001b[0mpkg_resources\u001b[0m\u001b[0;34m.\u001b[0m\u001b[0mDistributionNotFound\u001b[0m\u001b[0;34m)\u001b[0m\u001b[0;34m:\u001b[0m\u001b[0;34m\u001b[0m\u001b[0;34m\u001b[0m\u001b[0m\n\u001b[1;32m     79\u001b[0m         \u001b[0;32mreturn\u001b[0m \u001b[0;32mFalse\u001b[0m\u001b[0;34m\u001b[0m\u001b[0;34m\u001b[0m\u001b[0m\n",
            "\u001b[0;32m/usr/lib/python3.10/importlib/__init__.py\u001b[0m in \u001b[0;36mimport_module\u001b[0;34m(name, package)\u001b[0m\n\u001b[1;32m    124\u001b[0m                 \u001b[0;32mbreak\u001b[0m\u001b[0;34m\u001b[0m\u001b[0;34m\u001b[0m\u001b[0m\n\u001b[1;32m    125\u001b[0m             \u001b[0mlevel\u001b[0m \u001b[0;34m+=\u001b[0m \u001b[0;36m1\u001b[0m\u001b[0;34m\u001b[0m\u001b[0;34m\u001b[0m\u001b[0m\n\u001b[0;32m--> 126\u001b[0;31m     \u001b[0;32mreturn\u001b[0m \u001b[0m_bootstrap\u001b[0m\u001b[0;34m.\u001b[0m\u001b[0m_gcd_import\u001b[0m\u001b[0;34m(\u001b[0m\u001b[0mname\u001b[0m\u001b[0;34m[\u001b[0m\u001b[0mlevel\u001b[0m\u001b[0;34m:\u001b[0m\u001b[0;34m]\u001b[0m\u001b[0;34m,\u001b[0m \u001b[0mpackage\u001b[0m\u001b[0;34m,\u001b[0m \u001b[0mlevel\u001b[0m\u001b[0;34m)\u001b[0m\u001b[0;34m\u001b[0m\u001b[0;34m\u001b[0m\u001b[0m\n\u001b[0m\u001b[1;32m    127\u001b[0m \u001b[0;34m\u001b[0m\u001b[0m\n\u001b[1;32m    128\u001b[0m \u001b[0;34m\u001b[0m\u001b[0m\n",
            "\u001b[0;32m/usr/local/lib/python3.10/dist-packages/torchvision/__init__.py\u001b[0m in \u001b[0;36m<module>\u001b[0;34m\u001b[0m\n\u001b[1;32m      4\u001b[0m \u001b[0;34m\u001b[0m\u001b[0m\n\u001b[1;32m      5\u001b[0m \u001b[0;32mimport\u001b[0m \u001b[0mtorch\u001b[0m\u001b[0;34m\u001b[0m\u001b[0;34m\u001b[0m\u001b[0m\n\u001b[0;32m----> 6\u001b[0;31m \u001b[0;32mfrom\u001b[0m \u001b[0mtorchvision\u001b[0m \u001b[0;32mimport\u001b[0m \u001b[0m_meta_registrations\u001b[0m\u001b[0;34m,\u001b[0m \u001b[0mdatasets\u001b[0m\u001b[0;34m,\u001b[0m \u001b[0mio\u001b[0m\u001b[0;34m,\u001b[0m \u001b[0mmodels\u001b[0m\u001b[0;34m,\u001b[0m \u001b[0mops\u001b[0m\u001b[0;34m,\u001b[0m \u001b[0mtransforms\u001b[0m\u001b[0;34m,\u001b[0m \u001b[0mutils\u001b[0m\u001b[0;34m\u001b[0m\u001b[0;34m\u001b[0m\u001b[0m\n\u001b[0m\u001b[1;32m      7\u001b[0m \u001b[0;34m\u001b[0m\u001b[0m\n\u001b[1;32m      8\u001b[0m \u001b[0;32mfrom\u001b[0m \u001b[0;34m.\u001b[0m\u001b[0mextension\u001b[0m \u001b[0;32mimport\u001b[0m \u001b[0m_HAS_OPS\u001b[0m\u001b[0;34m\u001b[0m\u001b[0;34m\u001b[0m\u001b[0m\n",
            "\u001b[0;32m/usr/local/lib/python3.10/dist-packages/torchvision/models/__init__.py\u001b[0m in \u001b[0;36m<module>\u001b[0;34m\u001b[0m\n\u001b[1;32m      1\u001b[0m \u001b[0;32mfrom\u001b[0m \u001b[0;34m.\u001b[0m\u001b[0malexnet\u001b[0m \u001b[0;32mimport\u001b[0m \u001b[0;34m*\u001b[0m\u001b[0;34m\u001b[0m\u001b[0;34m\u001b[0m\u001b[0m\n\u001b[0;32m----> 2\u001b[0;31m \u001b[0;32mfrom\u001b[0m \u001b[0;34m.\u001b[0m\u001b[0mconvnext\u001b[0m \u001b[0;32mimport\u001b[0m \u001b[0;34m*\u001b[0m\u001b[0;34m\u001b[0m\u001b[0;34m\u001b[0m\u001b[0m\n\u001b[0m\u001b[1;32m      3\u001b[0m \u001b[0;32mfrom\u001b[0m \u001b[0;34m.\u001b[0m\u001b[0mdensenet\u001b[0m \u001b[0;32mimport\u001b[0m \u001b[0;34m*\u001b[0m\u001b[0;34m\u001b[0m\u001b[0;34m\u001b[0m\u001b[0m\n\u001b[1;32m      4\u001b[0m \u001b[0;32mfrom\u001b[0m \u001b[0;34m.\u001b[0m\u001b[0mefficientnet\u001b[0m \u001b[0;32mimport\u001b[0m \u001b[0;34m*\u001b[0m\u001b[0;34m\u001b[0m\u001b[0;34m\u001b[0m\u001b[0m\n\u001b[1;32m      5\u001b[0m \u001b[0;32mfrom\u001b[0m \u001b[0;34m.\u001b[0m\u001b[0mgooglenet\u001b[0m \u001b[0;32mimport\u001b[0m \u001b[0;34m*\u001b[0m\u001b[0;34m\u001b[0m\u001b[0;34m\u001b[0m\u001b[0m\n",
            "\u001b[0;32m/usr/local/lib/python3.10/dist-packages/torchvision/models/convnext.py\u001b[0m in \u001b[0;36m<module>\u001b[0;34m\u001b[0m\n\u001b[1;32m      7\u001b[0m \u001b[0;34m\u001b[0m\u001b[0m\n\u001b[1;32m      8\u001b[0m \u001b[0;32mfrom\u001b[0m \u001b[0;34m.\u001b[0m\u001b[0;34m.\u001b[0m\u001b[0mops\u001b[0m\u001b[0;34m.\u001b[0m\u001b[0mmisc\u001b[0m \u001b[0;32mimport\u001b[0m \u001b[0mConv2dNormActivation\u001b[0m\u001b[0;34m,\u001b[0m \u001b[0mPermute\u001b[0m\u001b[0;34m\u001b[0m\u001b[0;34m\u001b[0m\u001b[0m\n\u001b[0;32m----> 9\u001b[0;31m \u001b[0;32mfrom\u001b[0m \u001b[0;34m.\u001b[0m\u001b[0;34m.\u001b[0m\u001b[0mops\u001b[0m\u001b[0;34m.\u001b[0m\u001b[0mstochastic_depth\u001b[0m \u001b[0;32mimport\u001b[0m \u001b[0mStochasticDepth\u001b[0m\u001b[0;34m\u001b[0m\u001b[0;34m\u001b[0m\u001b[0m\n\u001b[0m\u001b[1;32m     10\u001b[0m \u001b[0;32mfrom\u001b[0m \u001b[0;34m.\u001b[0m\u001b[0;34m.\u001b[0m\u001b[0mtransforms\u001b[0m\u001b[0;34m.\u001b[0m\u001b[0m_presets\u001b[0m \u001b[0;32mimport\u001b[0m \u001b[0mImageClassification\u001b[0m\u001b[0;34m\u001b[0m\u001b[0;34m\u001b[0m\u001b[0m\n\u001b[1;32m     11\u001b[0m \u001b[0;32mfrom\u001b[0m \u001b[0;34m.\u001b[0m\u001b[0;34m.\u001b[0m\u001b[0mutils\u001b[0m \u001b[0;32mimport\u001b[0m \u001b[0m_log_api_usage_once\u001b[0m\u001b[0;34m\u001b[0m\u001b[0;34m\u001b[0m\u001b[0m\n",
            "\u001b[0;32m/usr/local/lib/python3.10/dist-packages/torchvision/ops/__init__.py\u001b[0m in \u001b[0;36m<module>\u001b[0;34m\u001b[0m\n\u001b[1;32m     21\u001b[0m \u001b[0;32mfrom\u001b[0m \u001b[0;34m.\u001b[0m\u001b[0mgiou_loss\u001b[0m \u001b[0;32mimport\u001b[0m \u001b[0mgeneralized_box_iou_loss\u001b[0m\u001b[0;34m\u001b[0m\u001b[0;34m\u001b[0m\u001b[0m\n\u001b[1;32m     22\u001b[0m \u001b[0;32mfrom\u001b[0m \u001b[0;34m.\u001b[0m\u001b[0mmisc\u001b[0m \u001b[0;32mimport\u001b[0m \u001b[0mConv2dNormActivation\u001b[0m\u001b[0;34m,\u001b[0m \u001b[0mConv3dNormActivation\u001b[0m\u001b[0;34m,\u001b[0m \u001b[0mFrozenBatchNorm2d\u001b[0m\u001b[0;34m,\u001b[0m \u001b[0mMLP\u001b[0m\u001b[0;34m,\u001b[0m \u001b[0mPermute\u001b[0m\u001b[0;34m,\u001b[0m \u001b[0mSqueezeExcitation\u001b[0m\u001b[0;34m\u001b[0m\u001b[0;34m\u001b[0m\u001b[0m\n\u001b[0;32m---> 23\u001b[0;31m \u001b[0;32mfrom\u001b[0m \u001b[0;34m.\u001b[0m\u001b[0mpoolers\u001b[0m \u001b[0;32mimport\u001b[0m \u001b[0mMultiScaleRoIAlign\u001b[0m\u001b[0;34m\u001b[0m\u001b[0;34m\u001b[0m\u001b[0m\n\u001b[0m\u001b[1;32m     24\u001b[0m \u001b[0;32mfrom\u001b[0m \u001b[0;34m.\u001b[0m\u001b[0mps_roi_align\u001b[0m \u001b[0;32mimport\u001b[0m \u001b[0mps_roi_align\u001b[0m\u001b[0;34m,\u001b[0m \u001b[0mPSRoIAlign\u001b[0m\u001b[0;34m\u001b[0m\u001b[0;34m\u001b[0m\u001b[0m\n\u001b[1;32m     25\u001b[0m \u001b[0;32mfrom\u001b[0m \u001b[0;34m.\u001b[0m\u001b[0mps_roi_pool\u001b[0m \u001b[0;32mimport\u001b[0m \u001b[0mps_roi_pool\u001b[0m\u001b[0;34m,\u001b[0m \u001b[0mPSRoIPool\u001b[0m\u001b[0;34m\u001b[0m\u001b[0;34m\u001b[0m\u001b[0m\n",
            "\u001b[0;32m/usr/local/lib/python3.10/dist-packages/torchvision/ops/poolers.py\u001b[0m in \u001b[0;36m<module>\u001b[0;34m\u001b[0m\n\u001b[1;32m      8\u001b[0m \u001b[0;34m\u001b[0m\u001b[0m\n\u001b[1;32m      9\u001b[0m \u001b[0;32mfrom\u001b[0m \u001b[0;34m.\u001b[0m\u001b[0;34m.\u001b[0m\u001b[0mutils\u001b[0m \u001b[0;32mimport\u001b[0m \u001b[0m_log_api_usage_once\u001b[0m\u001b[0;34m\u001b[0m\u001b[0;34m\u001b[0m\u001b[0m\n\u001b[0;32m---> 10\u001b[0;31m \u001b[0;32mfrom\u001b[0m \u001b[0;34m.\u001b[0m\u001b[0mroi_align\u001b[0m \u001b[0;32mimport\u001b[0m \u001b[0mroi_align\u001b[0m\u001b[0;34m\u001b[0m\u001b[0;34m\u001b[0m\u001b[0m\n\u001b[0m\u001b[1;32m     11\u001b[0m \u001b[0;34m\u001b[0m\u001b[0m\n\u001b[1;32m     12\u001b[0m \u001b[0;34m\u001b[0m\u001b[0m\n",
            "\u001b[0;32m/usr/local/lib/python3.10/dist-packages/torchvision/ops/roi_align.py\u001b[0m in \u001b[0;36m<module>\u001b[0;34m\u001b[0m\n\u001b[1;32m      2\u001b[0m \u001b[0;34m\u001b[0m\u001b[0m\n\u001b[1;32m      3\u001b[0m \u001b[0;32mimport\u001b[0m \u001b[0mtorch\u001b[0m\u001b[0;34m\u001b[0m\u001b[0;34m\u001b[0m\u001b[0m\n\u001b[0;32m----> 4\u001b[0;31m \u001b[0;32mimport\u001b[0m \u001b[0mtorch\u001b[0m\u001b[0;34m.\u001b[0m\u001b[0m_dynamo\u001b[0m\u001b[0;34m\u001b[0m\u001b[0;34m\u001b[0m\u001b[0m\n\u001b[0m\u001b[1;32m      5\u001b[0m \u001b[0;32mimport\u001b[0m \u001b[0mtorch\u001b[0m\u001b[0;34m.\u001b[0m\u001b[0mfx\u001b[0m\u001b[0;34m\u001b[0m\u001b[0;34m\u001b[0m\u001b[0m\n\u001b[1;32m      6\u001b[0m \u001b[0;32mfrom\u001b[0m \u001b[0mtorch\u001b[0m \u001b[0;32mimport\u001b[0m \u001b[0mnn\u001b[0m\u001b[0;34m,\u001b[0m \u001b[0mTensor\u001b[0m\u001b[0;34m\u001b[0m\u001b[0;34m\u001b[0m\u001b[0m\n",
            "\u001b[0;32m/usr/local/lib/python3.10/dist-packages/torch/_dynamo/__init__.py\u001b[0m in \u001b[0;36m<module>\u001b[0;34m\u001b[0m\n\u001b[1;32m      1\u001b[0m \u001b[0;32mimport\u001b[0m \u001b[0mtorch\u001b[0m\u001b[0;34m\u001b[0m\u001b[0;34m\u001b[0m\u001b[0m\n\u001b[0;32m----> 2\u001b[0;31m \u001b[0;32mfrom\u001b[0m \u001b[0;34m.\u001b[0m \u001b[0;32mimport\u001b[0m \u001b[0mallowed_functions\u001b[0m\u001b[0;34m,\u001b[0m \u001b[0mconvert_frame\u001b[0m\u001b[0;34m,\u001b[0m \u001b[0meval_frame\u001b[0m\u001b[0;34m,\u001b[0m \u001b[0mresume_execution\u001b[0m\u001b[0;34m\u001b[0m\u001b[0;34m\u001b[0m\u001b[0m\n\u001b[0m\u001b[1;32m      3\u001b[0m \u001b[0;32mfrom\u001b[0m \u001b[0;34m.\u001b[0m\u001b[0mbackends\u001b[0m\u001b[0;34m.\u001b[0m\u001b[0mregistry\u001b[0m \u001b[0;32mimport\u001b[0m \u001b[0mlist_backends\u001b[0m\u001b[0;34m,\u001b[0m \u001b[0mregister_backend\u001b[0m\u001b[0;34m\u001b[0m\u001b[0;34m\u001b[0m\u001b[0m\n\u001b[1;32m      4\u001b[0m \u001b[0;32mfrom\u001b[0m \u001b[0;34m.\u001b[0m\u001b[0mconvert_frame\u001b[0m \u001b[0;32mimport\u001b[0m \u001b[0mreplay\u001b[0m\u001b[0;34m\u001b[0m\u001b[0;34m\u001b[0m\u001b[0m\n\u001b[1;32m      5\u001b[0m from .decorators import (\n",
            "\u001b[0;32m/usr/local/lib/python3.10/dist-packages/torch/_dynamo/allowed_functions.py\u001b[0m in \u001b[0;36m<module>\u001b[0;34m\u001b[0m\n\u001b[1;32m     21\u001b[0m \u001b[0;34m\u001b[0m\u001b[0m\n\u001b[1;32m     22\u001b[0m \u001b[0;32mimport\u001b[0m \u001b[0mtorch\u001b[0m\u001b[0;34m\u001b[0m\u001b[0;34m\u001b[0m\u001b[0m\n\u001b[0;32m---> 23\u001b[0;31m \u001b[0;32mimport\u001b[0m \u001b[0mtorch\u001b[0m\u001b[0;34m.\u001b[0m\u001b[0m_functorch\u001b[0m\u001b[0;34m.\u001b[0m\u001b[0mdeprecated\u001b[0m \u001b[0;32mas\u001b[0m \u001b[0mdeprecated_func\u001b[0m\u001b[0;34m\u001b[0m\u001b[0;34m\u001b[0m\u001b[0m\n\u001b[0m\u001b[1;32m     24\u001b[0m \u001b[0;32mfrom\u001b[0m \u001b[0mtorch\u001b[0m\u001b[0;34m.\u001b[0m\u001b[0mfx\u001b[0m\u001b[0;34m.\u001b[0m\u001b[0m_symbolic_trace\u001b[0m \u001b[0;32mimport\u001b[0m \u001b[0mis_fx_tracing\u001b[0m\u001b[0;34m\u001b[0m\u001b[0;34m\u001b[0m\u001b[0m\n\u001b[1;32m     25\u001b[0m \u001b[0;34m\u001b[0m\u001b[0m\n",
            "\u001b[0;32m/usr/local/lib/python3.10/dist-packages/torch/_functorch/deprecated.py\u001b[0m in \u001b[0;36m<module>\u001b[0;34m\u001b[0m\n\u001b[1;32m    111\u001b[0m \u001b[0msetup_docs\u001b[0m\u001b[0;34m(\u001b[0m\u001b[0mvmap\u001b[0m\u001b[0;34m,\u001b[0m \u001b[0mapis\u001b[0m\u001b[0;34m.\u001b[0m\u001b[0mvmap\u001b[0m\u001b[0;34m,\u001b[0m \u001b[0;34m'torch.vmap'\u001b[0m\u001b[0;34m)\u001b[0m\u001b[0;34m\u001b[0m\u001b[0;34m\u001b[0m\u001b[0m\n\u001b[1;32m    112\u001b[0m \u001b[0msetup_docs\u001b[0m\u001b[0;34m(\u001b[0m\u001b[0mgrad\u001b[0m\u001b[0;34m,\u001b[0m \u001b[0mapis\u001b[0m\u001b[0;34m.\u001b[0m\u001b[0mgrad\u001b[0m\u001b[0;34m)\u001b[0m\u001b[0;34m\u001b[0m\u001b[0;34m\u001b[0m\u001b[0m\n\u001b[0;32m--> 113\u001b[0;31m \u001b[0msetup_docs\u001b[0m\u001b[0;34m(\u001b[0m\u001b[0mgrad_and_value\u001b[0m\u001b[0;34m)\u001b[0m\u001b[0;34m\u001b[0m\u001b[0;34m\u001b[0m\u001b[0m\n\u001b[0m\u001b[1;32m    114\u001b[0m \u001b[0msetup_docs\u001b[0m\u001b[0;34m(\u001b[0m\u001b[0mvjp\u001b[0m\u001b[0;34m)\u001b[0m\u001b[0;34m\u001b[0m\u001b[0;34m\u001b[0m\u001b[0m\n\u001b[1;32m    115\u001b[0m \u001b[0msetup_docs\u001b[0m\u001b[0;34m(\u001b[0m\u001b[0mjvp\u001b[0m\u001b[0;34m)\u001b[0m\u001b[0;34m\u001b[0m\u001b[0;34m\u001b[0m\u001b[0m\n",
            "\u001b[0;32m/usr/local/lib/python3.10/dist-packages/torch/_functorch/deprecated.py\u001b[0m in \u001b[0;36msetup_docs\u001b[0;34m(functorch_api, torch_func_api, new_api_name)\u001b[0m\n\u001b[1;32m     42\u001b[0m     \u001b[0mapi_name\u001b[0m \u001b[0;34m=\u001b[0m \u001b[0mfunctorch_api\u001b[0m\u001b[0;34m.\u001b[0m\u001b[0m__name__\u001b[0m\u001b[0;34m\u001b[0m\u001b[0;34m\u001b[0m\u001b[0m\n\u001b[1;32m     43\u001b[0m     \u001b[0;32mif\u001b[0m \u001b[0mtorch_func_api\u001b[0m \u001b[0;32mis\u001b[0m \u001b[0;32mNone\u001b[0m\u001b[0;34m:\u001b[0m\u001b[0;34m\u001b[0m\u001b[0;34m\u001b[0m\u001b[0m\n\u001b[0;32m---> 44\u001b[0;31m         \u001b[0mtorch_func_api\u001b[0m \u001b[0;34m=\u001b[0m \u001b[0mgetattr\u001b[0m\u001b[0;34m(\u001b[0m\u001b[0m_impl\u001b[0m\u001b[0;34m,\u001b[0m \u001b[0mapi_name\u001b[0m\u001b[0;34m)\u001b[0m\u001b[0;34m\u001b[0m\u001b[0;34m\u001b[0m\u001b[0m\n\u001b[0m\u001b[1;32m     45\u001b[0m     \u001b[0;31m# See https://docs.python.org/3/using/cmdline.html#cmdoption-OO\u001b[0m\u001b[0;34m\u001b[0m\u001b[0;34m\u001b[0m\u001b[0m\n\u001b[1;32m     46\u001b[0m     \u001b[0;32mif\u001b[0m \u001b[0mtorch_func_api\u001b[0m\u001b[0;34m.\u001b[0m\u001b[0m__doc__\u001b[0m \u001b[0;32mis\u001b[0m \u001b[0;32mNone\u001b[0m\u001b[0;34m:\u001b[0m\u001b[0;34m\u001b[0m\u001b[0;34m\u001b[0m\u001b[0m\n",
            "\u001b[0;31mAttributeError\u001b[0m: module 'torch._functorch.eager_transforms' has no attribute 'grad_and_value'"
          ]
        }
      ],
      "source": [
        "import os\n",
        "\n",
        "from sparse_autoencoder import (\n",
        "    ActivationResamplerHyperparameters,\n",
        "    AutoencoderHyperparameters,\n",
        "    Hyperparameters,\n",
        "    LossHyperparameters,\n",
        "    Method,\n",
        "    OptimizerHyperparameters,\n",
        "    Parameter,\n",
        "    PipelineHyperparameters,\n",
        "    SourceDataHyperparameters,\n",
        "    SourceModelHyperparameters,\n",
        "    SweepConfig,\n",
        "    sweep,\n",
        ")"
      ]
    },
    {
      "cell_type": "code",
      "source": [
        "!unzip sparse_autoencoder.zip && cd sparse_autoencoder"
      ],
      "metadata": {
        "colab": {
          "base_uri": "https://localhost:8080/"
        },
        "id": "8Nytx79gnZiA",
        "outputId": "a6bd82bc-95dc-4009-e4a1-56e2ff40426a"
      },
      "execution_count": null,
      "outputs": [
        {
          "output_type": "stream",
          "name": "stdout",
          "text": [
            "Archive:  sparse_autoencoder.zip\n",
            "   creating: sparse_autoencoder/\n",
            "  inflating: sparse_autoencoder/mkdocs.yml  \n",
            "  inflating: sparse_autoencoder/LICENSE  \n",
            "  inflating: __MACOSX/sparse_autoencoder/._LICENSE  \n",
            "   creating: sparse_autoencoder/sparse_autoencoder/\n",
            "  inflating: sparse_autoencoder/.pre-commit-config.yaml  \n",
            "  inflating: sparse_autoencoder/pyproject.toml  \n",
            "   creating: sparse_autoencoder/.checkpoints/\n",
            "   creating: sparse_autoencoder/docs/\n",
            "   creating: sparse_autoencoder/.devcontainer/\n",
            "  inflating: sparse_autoencoder/README.md  \n",
            "  inflating: sparse_autoencoder/.gitignore  \n",
            "   creating: sparse_autoencoder/.github/\n",
            "  inflating: sparse_autoencoder/poetry.lock  \n",
            "   creating: sparse_autoencoder/.git/\n",
            "   creating: sparse_autoencoder/.vscode/\n",
            "  inflating: sparse_autoencoder/test.ipynb  \n",
            "   creating: sparse_autoencoder/wandb/\n",
            "   creating: sparse_autoencoder/sparse_autoencoder/metrics/\n",
            "   creating: sparse_autoencoder/sparse_autoencoder/source_data/\n",
            "   creating: sparse_autoencoder/sparse_autoencoder/autoencoder/\n",
            "   creating: sparse_autoencoder/sparse_autoencoder/training_runs/\n",
            "   creating: sparse_autoencoder/sparse_autoencoder/optimizer/\n",
            "  inflating: sparse_autoencoder/sparse_autoencoder/__init__.py  \n",
            "   creating: sparse_autoencoder/sparse_autoencoder/utils/\n",
            "   creating: sparse_autoencoder/sparse_autoencoder/__pycache__/\n",
            "  inflating: sparse_autoencoder/sparse_autoencoder/tensor_types.py  \n",
            "   creating: sparse_autoencoder/sparse_autoencoder/source_model/\n",
            "   creating: sparse_autoencoder/sparse_autoencoder/activation_store/\n",
            "   creating: sparse_autoencoder/sparse_autoencoder/activation_resampler/\n",
            "   creating: sparse_autoencoder/sparse_autoencoder/train/\n",
            "  inflating: sparse_autoencoder/docs/gen_ref_pages.py  \n",
            "   creating: sparse_autoencoder/docs/content/\n",
            "  inflating: sparse_autoencoder/.devcontainer/Dockerfile  \n",
            "  inflating: sparse_autoencoder/.devcontainer/devcontainer.json  \n",
            "   creating: sparse_autoencoder/.github/workflows/\n",
            "  inflating: sparse_autoencoder/.git/config  \n",
            "   creating: sparse_autoencoder/.git/objects/\n",
            "  inflating: sparse_autoencoder/.git/HEAD  \n",
            "   creating: sparse_autoencoder/.git/info/\n",
            "   creating: sparse_autoencoder/.git/logs/\n",
            "  inflating: sparse_autoencoder/.git/description  \n",
            "   creating: sparse_autoencoder/.git/hooks/\n",
            "   creating: sparse_autoencoder/.git/refs/\n",
            "  inflating: sparse_autoencoder/.git/index  \n",
            "  inflating: sparse_autoencoder/.git/packed-refs  \n",
            "  inflating: sparse_autoencoder/.git/FETCH_HEAD  \n",
            "  inflating: sparse_autoencoder/.vscode/cspell.json  \n",
            "  inflating: sparse_autoencoder/.vscode/settings.json  \n",
            "  inflating: sparse_autoencoder/.vscode/extensions.json  \n",
            "    linking: sparse_autoencoder/wandb/debug-internal.log  -> run-20240707_191921-7h59c5m8/logs/debug-internal.log \n",
            "   creating: sparse_autoencoder/wandb/sweep-2ii4mmd8/\n",
            "   creating: sparse_autoencoder/wandb/run-20240707_191921-7h59c5m8/\n",
            " extracting: sparse_autoencoder/wandb/debug-cli.seansica.log  \n",
            "   creating: sparse_autoencoder/wandb/run-20240707_190814-la9nd2ic/\n",
            "   creating: sparse_autoencoder/wandb/sweep-5q6jj1d9/\n",
            "    linking: sparse_autoencoder/wandb/debug.log  -> run-20240707_191921-7h59c5m8/logs/debug.log \n",
            "   creating: sparse_autoencoder/wandb/sweep-znowhd65/\n",
            "    linking: sparse_autoencoder/wandb/latest-run  -> run-20240707_191921-7h59c5m8 \n",
            "   creating: sparse_autoencoder/wandb/run-20240707_181149-su24rshk/\n",
            "   creating: sparse_autoencoder/sparse_autoencoder/metrics/wrappers/\n",
            "   creating: sparse_autoencoder/sparse_autoencoder/metrics/validate/\n",
            "   creating: sparse_autoencoder/sparse_autoencoder/metrics/loss/\n",
            "  inflating: sparse_autoencoder/sparse_autoencoder/metrics/__init__.py  \n",
            "   creating: sparse_autoencoder/sparse_autoencoder/metrics/__pycache__/\n",
            "   creating: sparse_autoencoder/sparse_autoencoder/metrics/train/\n",
            "   creating: sparse_autoencoder/sparse_autoencoder/source_data/tests/\n",
            "  inflating: sparse_autoencoder/sparse_autoencoder/source_data/__init__.py  \n",
            "   creating: sparse_autoencoder/sparse_autoencoder/source_data/__pycache__/\n",
            "  inflating: sparse_autoencoder/sparse_autoencoder/source_data/text_dataset.py  \n",
            "  inflating: sparse_autoencoder/sparse_autoencoder/source_data/mock_dataset.py  \n",
            "  inflating: sparse_autoencoder/sparse_autoencoder/source_data/pretokenized_dataset.py  \n",
            "  inflating: sparse_autoencoder/sparse_autoencoder/source_data/abstract_dataset.py  \n",
            "   creating: sparse_autoencoder/sparse_autoencoder/autoencoder/tests/\n",
            "  inflating: sparse_autoencoder/sparse_autoencoder/autoencoder/__init__.py  \n",
            "  inflating: sparse_autoencoder/sparse_autoencoder/autoencoder/types.py  \n",
            "   creating: sparse_autoencoder/sparse_autoencoder/autoencoder/__pycache__/\n",
            "  inflating: sparse_autoencoder/sparse_autoencoder/autoencoder/model.py  \n",
            "   creating: sparse_autoencoder/sparse_autoencoder/autoencoder/components/\n",
            "  inflating: sparse_autoencoder/sparse_autoencoder/autoencoder/lightning.py  \n",
            "  inflating: sparse_autoencoder/sparse_autoencoder/training_runs/gpt2.py  \n",
            "  inflating: sparse_autoencoder/sparse_autoencoder/training_runs/__init__.py  \n",
            "   creating: sparse_autoencoder/sparse_autoencoder/optimizer/tests/\n",
            "  inflating: sparse_autoencoder/sparse_autoencoder/optimizer/adam_with_reset.py  \n",
            "  inflating: sparse_autoencoder/sparse_autoencoder/optimizer/__init__.py  \n",
            "   creating: sparse_autoencoder/sparse_autoencoder/optimizer/__pycache__/\n",
            "  inflating: sparse_autoencoder/sparse_autoencoder/utils/data_parallel.py  \n",
            "  inflating: sparse_autoencoder/sparse_autoencoder/utils/__init__.py  \n",
            "   creating: sparse_autoencoder/sparse_autoencoder/utils/__pycache__/\n",
            "  inflating: sparse_autoencoder/sparse_autoencoder/utils/tensor_shape.py  \n",
            "  inflating: sparse_autoencoder/sparse_autoencoder/__pycache__/tensor_types.cpython-311.pyc  \n",
            "  inflating: sparse_autoencoder/sparse_autoencoder/__pycache__/__init__.cpython-311.pyc  \n",
            "  inflating: sparse_autoencoder/sparse_autoencoder/source_model/reshape_activations.py  \n",
            "  inflating: sparse_autoencoder/sparse_autoencoder/source_model/zero_ablate_hook.py  \n",
            "   creating: sparse_autoencoder/sparse_autoencoder/source_model/tests/\n",
            "  inflating: sparse_autoencoder/sparse_autoencoder/source_model/__init__.py  \n",
            "   creating: sparse_autoencoder/sparse_autoencoder/source_model/__pycache__/\n",
            "  inflating: sparse_autoencoder/sparse_autoencoder/source_model/store_activations_hook.py  \n",
            "  inflating: sparse_autoencoder/sparse_autoencoder/source_model/replace_activations_hook.py  \n",
            "  inflating: sparse_autoencoder/sparse_autoencoder/activation_store/tensor_store.py  \n",
            "   creating: sparse_autoencoder/sparse_autoencoder/activation_store/tests/\n",
            "  inflating: sparse_autoencoder/sparse_autoencoder/activation_store/__init__.py  \n",
            "   creating: sparse_autoencoder/sparse_autoencoder/activation_store/__pycache__/\n",
            "  inflating: sparse_autoencoder/sparse_autoencoder/activation_store/base_store.py  \n",
            "   creating: sparse_autoencoder/sparse_autoencoder/activation_resampler/tests/\n",
            "  inflating: sparse_autoencoder/sparse_autoencoder/activation_resampler/__init__.py  \n",
            "   creating: sparse_autoencoder/sparse_autoencoder/activation_resampler/utils/\n",
            "   creating: sparse_autoencoder/sparse_autoencoder/activation_resampler/__pycache__/\n",
            "  inflating: sparse_autoencoder/sparse_autoencoder/activation_resampler/activation_resampler.py  \n",
            "   creating: sparse_autoencoder/sparse_autoencoder/train/tests/\n",
            "  inflating: sparse_autoencoder/sparse_autoencoder/train/__init__.py  \n",
            "   creating: sparse_autoencoder/sparse_autoencoder/train/utils/\n",
            "   creating: sparse_autoencoder/sparse_autoencoder/train/__pycache__/\n",
            "  inflating: sparse_autoencoder/sparse_autoencoder/train/join_sweep.py  \n",
            "  inflating: sparse_autoencoder/sparse_autoencoder/train/pipeline.py  \n",
            "  inflating: sparse_autoencoder/sparse_autoencoder/train/sweep_config.py  \n",
            "  inflating: sparse_autoencoder/sparse_autoencoder/train/sweep.py  \n",
            "   creating: sparse_autoencoder/docs/content/css/\n",
            "  inflating: sparse_autoencoder/docs/content/SUMMARY.md  \n",
            "  inflating: sparse_autoencoder/docs/content/demo.ipynb  \n",
            "  inflating: sparse_autoencoder/docs/content/index.md  \n",
            "  inflating: sparse_autoencoder/docs/content/contributing.md  \n",
            "  inflating: sparse_autoencoder/docs/content/citation.md  \n",
            "   creating: sparse_autoencoder/docs/content/javascript/\n",
            "  inflating: sparse_autoencoder/docs/content/pre-process-datasets.ipynb  \n",
            "  inflating: sparse_autoencoder/.github/workflows/release.yml  \n",
            "  inflating: sparse_autoencoder/.github/workflows/gh-pages.yml  \n",
            "  inflating: sparse_autoencoder/.github/workflows/checks.yml  \n",
            "   creating: sparse_autoencoder/.git/objects/pack/\n",
            "   creating: sparse_autoencoder/.git/objects/info/\n",
            "  inflating: sparse_autoencoder/.git/info/exclude  \n",
            "  inflating: sparse_autoencoder/.git/logs/HEAD  \n",
            "   creating: sparse_autoencoder/.git/logs/refs/\n",
            "  inflating: sparse_autoencoder/.git/hooks/commit-msg.sample  \n",
            "  inflating: sparse_autoencoder/.git/hooks/pre-rebase.sample  \n",
            "  inflating: sparse_autoencoder/.git/hooks/pre-commit.sample  \n",
            "  inflating: sparse_autoencoder/.git/hooks/applypatch-msg.sample  \n",
            "  inflating: sparse_autoencoder/.git/hooks/fsmonitor-watchman.sample  \n",
            "  inflating: sparse_autoencoder/.git/hooks/pre-receive.sample  \n",
            "  inflating: sparse_autoencoder/.git/hooks/prepare-commit-msg.sample  \n",
            "  inflating: sparse_autoencoder/.git/hooks/post-update.sample  \n",
            "  inflating: sparse_autoencoder/.git/hooks/pre-merge-commit.sample  \n",
            "  inflating: sparse_autoencoder/.git/hooks/pre-applypatch.sample  \n",
            "  inflating: sparse_autoencoder/.git/hooks/pre-push.sample  \n",
            "  inflating: sparse_autoencoder/.git/hooks/update.sample  \n",
            "  inflating: sparse_autoencoder/.git/hooks/push-to-checkout.sample  \n",
            "   creating: sparse_autoencoder/.git/refs/heads/\n",
            "   creating: sparse_autoencoder/.git/refs/tags/\n",
            "   creating: sparse_autoencoder/.git/refs/remotes/\n",
            "  inflating: sparse_autoencoder/wandb/sweep-2ii4mmd8/config-su24rshk.yaml  \n",
            "  inflating: sparse_autoencoder/wandb/run-20240707_191921-7h59c5m8/run-7h59c5m8.wandb  \n",
            "   creating: sparse_autoencoder/wandb/run-20240707_191921-7h59c5m8/logs/\n",
            "   creating: sparse_autoencoder/wandb/run-20240707_191921-7h59c5m8/files/\n",
            "   creating: sparse_autoencoder/wandb/run-20240707_191921-7h59c5m8/tmp/\n",
            "  inflating: sparse_autoencoder/wandb/run-20240707_190814-la9nd2ic/run-la9nd2ic.wandb  \n",
            "   creating: sparse_autoencoder/wandb/run-20240707_190814-la9nd2ic/logs/\n",
            "   creating: sparse_autoencoder/wandb/run-20240707_190814-la9nd2ic/files/\n",
            "   creating: sparse_autoencoder/wandb/run-20240707_190814-la9nd2ic/tmp/\n",
            "  inflating: sparse_autoencoder/wandb/sweep-5q6jj1d9/config-la9nd2ic.yaml  \n",
            "  inflating: sparse_autoencoder/wandb/sweep-znowhd65/config-7h59c5m8.yaml  \n",
            "  inflating: sparse_autoencoder/wandb/run-20240707_181149-su24rshk/run-su24rshk.wandb  \n",
            "   creating: sparse_autoencoder/wandb/run-20240707_181149-su24rshk/logs/\n",
            "   creating: sparse_autoencoder/wandb/run-20240707_181149-su24rshk/files/\n",
            "   creating: sparse_autoencoder/wandb/run-20240707_181149-su24rshk/tmp/\n",
            "  inflating: sparse_autoencoder/sparse_autoencoder/metrics/wrappers/classwise.py  \n",
            "   creating: sparse_autoencoder/sparse_autoencoder/metrics/wrappers/tests/\n",
            "  inflating: sparse_autoencoder/sparse_autoencoder/metrics/wrappers/__init__.py  \n",
            "   creating: sparse_autoencoder/sparse_autoencoder/metrics/wrappers/__pycache__/\n",
            "   creating: sparse_autoencoder/sparse_autoencoder/metrics/validate/tests/\n",
            "  inflating: sparse_autoencoder/sparse_autoencoder/metrics/validate/__init__.py  \n",
            "   creating: sparse_autoencoder/sparse_autoencoder/metrics/validate/__pycache__/\n",
            "  inflating: sparse_autoencoder/sparse_autoencoder/metrics/validate/reconstruction_score.py  \n",
            "  inflating: sparse_autoencoder/sparse_autoencoder/metrics/loss/sae_loss.py  \n",
            "   creating: sparse_autoencoder/sparse_autoencoder/metrics/loss/tests/\n",
            "  inflating: sparse_autoencoder/sparse_autoencoder/metrics/loss/__init__.py  \n",
            "   creating: sparse_autoencoder/sparse_autoencoder/metrics/loss/__pycache__/\n",
            "  inflating: sparse_autoencoder/sparse_autoencoder/metrics/loss/l1_absolute_loss.py  \n",
            "  inflating: sparse_autoencoder/sparse_autoencoder/metrics/loss/l2_reconstruction_loss.py  \n",
            "  inflating: sparse_autoencoder/sparse_autoencoder/metrics/__pycache__/__init__.cpython-311.pyc  \n",
            "  inflating: sparse_autoencoder/sparse_autoencoder/metrics/train/capacity.py  \n",
            "  inflating: sparse_autoencoder/sparse_autoencoder/metrics/train/neuron_activity.py  \n",
            "   creating: sparse_autoencoder/sparse_autoencoder/metrics/train/tests/\n",
            "  inflating: sparse_autoencoder/sparse_autoencoder/metrics/train/feature_density.py  \n",
            "  inflating: sparse_autoencoder/sparse_autoencoder/metrics/train/__init__.py  \n",
            "   creating: sparse_autoencoder/sparse_autoencoder/metrics/train/__pycache__/\n",
            "  inflating: sparse_autoencoder/sparse_autoencoder/metrics/train/neuron_fired_count.py  \n",
            "  inflating: sparse_autoencoder/sparse_autoencoder/metrics/train/l0_norm.py  \n",
            "  inflating: sparse_autoencoder/sparse_autoencoder/source_data/tests/test_pretokenized_dataset.py  \n",
            "  inflating: sparse_autoencoder/sparse_autoencoder/source_data/tests/test_abstract_dataset.py  \n",
            "  inflating: sparse_autoencoder/sparse_autoencoder/source_data/tests/test_mock_dataset.py  \n",
            "  inflating: sparse_autoencoder/sparse_autoencoder/source_data/tests/test_text_dataset.py  \n",
            "  inflating: sparse_autoencoder/sparse_autoencoder/source_data/__pycache__/text_dataset.cpython-311.pyc  \n",
            "  inflating: sparse_autoencoder/sparse_autoencoder/source_data/__pycache__/pretokenized_dataset.cpython-311.pyc  \n",
            "  inflating: sparse_autoencoder/sparse_autoencoder/source_data/__pycache__/abstract_dataset.cpython-311.pyc  \n",
            "  inflating: sparse_autoencoder/sparse_autoencoder/source_data/__pycache__/__init__.cpython-311.pyc  \n",
            "  inflating: sparse_autoencoder/sparse_autoencoder/autoencoder/tests/test_model.py  \n",
            "   creating: sparse_autoencoder/sparse_autoencoder/autoencoder/tests/__snapshots__/\n",
            "  inflating: sparse_autoencoder/sparse_autoencoder/autoencoder/__pycache__/model.cpython-311.pyc  \n",
            "  inflating: sparse_autoencoder/sparse_autoencoder/autoencoder/__pycache__/types.cpython-311.pyc  \n",
            "  inflating: sparse_autoencoder/sparse_autoencoder/autoencoder/__pycache__/lightning.cpython-311.pyc  \n",
            "  inflating: sparse_autoencoder/sparse_autoencoder/autoencoder/__pycache__/__init__.cpython-311.pyc  \n",
            "  inflating: sparse_autoencoder/sparse_autoencoder/autoencoder/components/tied_bias.py  \n",
            "  inflating: sparse_autoencoder/sparse_autoencoder/autoencoder/components/linear_encoder.py  \n",
            "   creating: sparse_autoencoder/sparse_autoencoder/autoencoder/components/tests/\n",
            "  inflating: sparse_autoencoder/sparse_autoencoder/autoencoder/components/__init__.py  \n",
            "   creating: sparse_autoencoder/sparse_autoencoder/autoencoder/components/__pycache__/\n",
            "  inflating: sparse_autoencoder/sparse_autoencoder/autoencoder/components/unit_norm_decoder.py  \n",
            "  inflating: sparse_autoencoder/sparse_autoencoder/optimizer/tests/test_adam_with_reset.py  \n",
            "  inflating: sparse_autoencoder/sparse_autoencoder/optimizer/__pycache__/adam_with_reset.cpython-311.pyc  \n",
            "  inflating: sparse_autoencoder/sparse_autoencoder/optimizer/__pycache__/__init__.cpython-311.pyc  \n",
            "  inflating: sparse_autoencoder/sparse_autoencoder/utils/__pycache__/data_parallel.cpython-311.pyc  \n",
            "  inflating: sparse_autoencoder/sparse_autoencoder/utils/__pycache__/tensor_shape.cpython-311.pyc  \n",
            "  inflating: sparse_autoencoder/sparse_autoencoder/utils/__pycache__/__init__.cpython-311.pyc  \n",
            "  inflating: sparse_autoencoder/sparse_autoencoder/source_model/tests/test_store_activations_hook.py  \n",
            "  inflating: sparse_autoencoder/sparse_autoencoder/source_model/tests/test_replace_activations_hook.py  \n",
            "  inflating: sparse_autoencoder/sparse_autoencoder/source_model/tests/test_zero_ablate_hook.py  \n",
            "  inflating: sparse_autoencoder/sparse_autoencoder/source_model/__pycache__/replace_activations_hook.cpython-311.pyc  \n",
            "  inflating: sparse_autoencoder/sparse_autoencoder/source_model/__pycache__/zero_ablate_hook.cpython-311.pyc  \n",
            "  inflating: sparse_autoencoder/sparse_autoencoder/source_model/__pycache__/store_activations_hook.cpython-311.pyc  \n",
            "  inflating: sparse_autoencoder/sparse_autoencoder/source_model/__pycache__/reshape_activations.cpython-311.pyc  \n",
            "  inflating: sparse_autoencoder/sparse_autoencoder/source_model/__pycache__/__init__.cpython-311.pyc  \n",
            "  inflating: sparse_autoencoder/sparse_autoencoder/activation_store/tests/test_tensor_store.py  \n",
            "  inflating: sparse_autoencoder/sparse_autoencoder/activation_store/__pycache__/tensor_store.cpython-311.pyc  \n",
            "  inflating: sparse_autoencoder/sparse_autoencoder/activation_store/__pycache__/base_store.cpython-311.pyc  \n",
            "  inflating: sparse_autoencoder/sparse_autoencoder/activation_store/__pycache__/__init__.cpython-311.pyc  \n",
            "  inflating: sparse_autoencoder/sparse_autoencoder/activation_resampler/tests/test_activation_resampler.py  \n",
            "  inflating: sparse_autoencoder/sparse_autoencoder/activation_resampler/utils/component_slice_tensor.py  \n",
            "  inflating: sparse_autoencoder/sparse_autoencoder/activation_resampler/utils/__init__.py  \n",
            "   creating: sparse_autoencoder/sparse_autoencoder/activation_resampler/utils/__pycache__/\n",
            "  inflating: sparse_autoencoder/sparse_autoencoder/activation_resampler/__pycache__/activation_resampler.cpython-311.pyc  \n",
            "  inflating: sparse_autoencoder/sparse_autoencoder/activation_resampler/__pycache__/__init__.cpython-311.pyc  \n",
            "  inflating: sparse_autoencoder/sparse_autoencoder/train/tests/test_sweep.py  \n",
            "  inflating: sparse_autoencoder/sparse_autoencoder/train/tests/test_pipeline.py  \n",
            "   creating: sparse_autoencoder/sparse_autoencoder/train/tests/__snapshots__/\n",
            "  inflating: sparse_autoencoder/sparse_autoencoder/train/utils/wandb_sweep_types.py  \n",
            "   creating: sparse_autoencoder/sparse_autoencoder/train/utils/tests/\n",
            "  inflating: sparse_autoencoder/sparse_autoencoder/train/utils/__init__.py  \n",
            "   creating: sparse_autoencoder/sparse_autoencoder/train/utils/__pycache__/\n",
            "  inflating: sparse_autoencoder/sparse_autoencoder/train/utils/round_down.py  \n",
            "  inflating: sparse_autoencoder/sparse_autoencoder/train/utils/get_model_device.py  \n",
            "  inflating: sparse_autoencoder/sparse_autoencoder/train/__pycache__/pipeline.cpython-311.pyc  \n",
            "  inflating: sparse_autoencoder/sparse_autoencoder/train/__pycache__/sweep.cpython-311.pyc  \n",
            "  inflating: sparse_autoencoder/sparse_autoencoder/train/__pycache__/sweep_config.cpython-311.pyc  \n",
            "  inflating: sparse_autoencoder/sparse_autoencoder/train/__pycache__/__init__.cpython-311.pyc  \n",
            "  inflating: sparse_autoencoder/docs/content/css/custom_formatting.css  \n",
            "  inflating: sparse_autoencoder/docs/content/css/material_extra.css  \n",
            "  inflating: sparse_autoencoder/docs/content/javascript/custom_formatting.js  \n",
            "  inflating: sparse_autoencoder/docs/content/javascript/mathjax.js  \n",
            "  inflating: sparse_autoencoder/.git/objects/pack/pack-a5539cfe75fe64df99afb5a8b41727090dbe6fc5.pack  \n",
            "  inflating: sparse_autoencoder/.git/objects/pack/pack-a5539cfe75fe64df99afb5a8b41727090dbe6fc5.idx  \n",
            "   creating: sparse_autoencoder/.git/logs/refs/heads/\n",
            "   creating: sparse_autoencoder/.git/logs/refs/remotes/\n",
            "  inflating: sparse_autoencoder/.git/refs/heads/main  \n",
            "   creating: sparse_autoencoder/.git/refs/remotes/origin/\n",
            "  inflating: sparse_autoencoder/wandb/run-20240707_191921-7h59c5m8/logs/debug-internal.log  \n",
            "  inflating: sparse_autoencoder/wandb/run-20240707_191921-7h59c5m8/logs/debug.log  \n",
            "  inflating: sparse_autoencoder/wandb/run-20240707_191921-7h59c5m8/files/requirements.txt  \n",
            "  inflating: __MACOSX/sparse_autoencoder/wandb/run-20240707_191921-7h59c5m8/files/._requirements.txt  \n",
            "  inflating: sparse_autoencoder/wandb/run-20240707_191921-7h59c5m8/files/output.log  \n",
            "  inflating: sparse_autoencoder/wandb/run-20240707_191921-7h59c5m8/files/config.yaml  \n",
            "  inflating: sparse_autoencoder/wandb/run-20240707_191921-7h59c5m8/files/wandb-metadata.json  \n",
            "   creating: sparse_autoencoder/wandb/run-20240707_191921-7h59c5m8/tmp/code/\n",
            "  inflating: sparse_autoencoder/wandb/run-20240707_190814-la9nd2ic/logs/debug-internal.log  \n",
            "  inflating: sparse_autoencoder/wandb/run-20240707_190814-la9nd2ic/logs/debug.log  \n",
            "  inflating: sparse_autoencoder/wandb/run-20240707_190814-la9nd2ic/files/requirements.txt  \n",
            "  inflating: __MACOSX/sparse_autoencoder/wandb/run-20240707_190814-la9nd2ic/files/._requirements.txt  \n",
            "  inflating: sparse_autoencoder/wandb/run-20240707_190814-la9nd2ic/files/output.log  \n",
            "  inflating: sparse_autoencoder/wandb/run-20240707_190814-la9nd2ic/files/config.yaml  \n",
            "  inflating: sparse_autoencoder/wandb/run-20240707_190814-la9nd2ic/files/wandb-metadata.json  \n",
            "   creating: sparse_autoencoder/wandb/run-20240707_190814-la9nd2ic/tmp/code/\n",
            "  inflating: sparse_autoencoder/wandb/run-20240707_181149-su24rshk/logs/debug-internal.log  \n",
            "  inflating: sparse_autoencoder/wandb/run-20240707_181149-su24rshk/logs/debug.log  \n",
            "  inflating: sparse_autoencoder/wandb/run-20240707_181149-su24rshk/files/requirements.txt  \n",
            "  inflating: __MACOSX/sparse_autoencoder/wandb/run-20240707_181149-su24rshk/files/._requirements.txt  \n",
            "  inflating: sparse_autoencoder/wandb/run-20240707_181149-su24rshk/files/output.log  \n",
            "  inflating: sparse_autoencoder/wandb/run-20240707_181149-su24rshk/files/config.yaml  \n",
            "  inflating: sparse_autoencoder/wandb/run-20240707_181149-su24rshk/files/wandb-metadata.json  \n",
            "   creating: sparse_autoencoder/wandb/run-20240707_181149-su24rshk/tmp/code/\n",
            "  inflating: sparse_autoencoder/sparse_autoencoder/metrics/wrappers/tests/test_classwise.py  \n",
            "  inflating: sparse_autoencoder/sparse_autoencoder/metrics/wrappers/__pycache__/classwise.cpython-311.pyc  \n",
            "  inflating: sparse_autoencoder/sparse_autoencoder/metrics/wrappers/__pycache__/__init__.cpython-311.pyc  \n",
            "   creating: sparse_autoencoder/sparse_autoencoder/metrics/validate/tests/__snapshots__/\n",
            "  inflating: sparse_autoencoder/sparse_autoencoder/metrics/validate/__pycache__/reconstruction_score.cpython-311.pyc  \n",
            "  inflating: sparse_autoencoder/sparse_autoencoder/metrics/validate/__pycache__/__init__.cpython-311.pyc  \n",
            "  inflating: sparse_autoencoder/sparse_autoencoder/metrics/loss/tests/test_l1_absolute_loss.py  \n",
            "  inflating: sparse_autoencoder/sparse_autoencoder/metrics/loss/tests/test_sae_loss.py  \n",
            "  inflating: sparse_autoencoder/sparse_autoencoder/metrics/loss/tests/test_l2_reconstruction_loss.py  \n",
            "  inflating: sparse_autoencoder/sparse_autoencoder/metrics/loss/__pycache__/l2_reconstruction_loss.cpython-311.pyc  \n",
            "  inflating: sparse_autoencoder/sparse_autoencoder/metrics/loss/__pycache__/sae_loss.cpython-311.pyc  \n",
            "  inflating: sparse_autoencoder/sparse_autoencoder/metrics/loss/__pycache__/l1_absolute_loss.cpython-311.pyc  \n",
            "  inflating: sparse_autoencoder/sparse_autoencoder/metrics/loss/__pycache__/__init__.cpython-311.pyc  \n",
            "  inflating: sparse_autoencoder/sparse_autoencoder/metrics/train/tests/test_neuron_fired_count.py  \n",
            "  inflating: sparse_autoencoder/sparse_autoencoder/metrics/train/tests/test_neuron_activity.py  \n",
            "  inflating: sparse_autoencoder/sparse_autoencoder/metrics/train/tests/test_l0_norm.py  \n",
            "  inflating: sparse_autoencoder/sparse_autoencoder/metrics/train/tests/test_feature_density.py  \n",
            "  inflating: sparse_autoencoder/sparse_autoencoder/metrics/train/__pycache__/capacity.cpython-311.pyc  \n",
            "  inflating: sparse_autoencoder/sparse_autoencoder/metrics/train/__pycache__/neuron_activity.cpython-311.pyc  \n",
            "  inflating: sparse_autoencoder/sparse_autoencoder/metrics/train/__pycache__/l0_norm.cpython-311.pyc  \n",
            "  inflating: sparse_autoencoder/sparse_autoencoder/metrics/train/__pycache__/neuron_fired_count.cpython-311.pyc  \n",
            "  inflating: sparse_autoencoder/sparse_autoencoder/metrics/train/__pycache__/feature_density.cpython-311.pyc  \n",
            "  inflating: sparse_autoencoder/sparse_autoencoder/metrics/train/__pycache__/__init__.cpython-311.pyc  \n",
            "  inflating: sparse_autoencoder/sparse_autoencoder/autoencoder/tests/__snapshots__/test_model.ambr  \n",
            "  inflating: sparse_autoencoder/sparse_autoencoder/autoencoder/components/tests/test_unit_norm_decoder.py  \n",
            "  inflating: sparse_autoencoder/sparse_autoencoder/autoencoder/components/tests/test_tied_bias.py  \n",
            "  inflating: sparse_autoencoder/sparse_autoencoder/autoencoder/components/tests/test_compare_neel_implementation.py  \n",
            "  inflating: sparse_autoencoder/sparse_autoencoder/autoencoder/components/tests/test_linear_encoder.py  \n",
            "   creating: sparse_autoencoder/sparse_autoencoder/autoencoder/components/tests/__snapshots__/\n",
            "  inflating: sparse_autoencoder/sparse_autoencoder/autoencoder/components/__pycache__/unit_norm_decoder.cpython-311.pyc  \n",
            "  inflating: sparse_autoencoder/sparse_autoencoder/autoencoder/components/__pycache__/tied_bias.cpython-311.pyc  \n",
            "  inflating: sparse_autoencoder/sparse_autoencoder/autoencoder/components/__pycache__/linear_encoder.cpython-311.pyc  \n",
            "  inflating: sparse_autoencoder/sparse_autoencoder/autoencoder/components/__pycache__/__init__.cpython-311.pyc  \n",
            "  inflating: sparse_autoencoder/sparse_autoencoder/activation_resampler/utils/__pycache__/component_slice_tensor.cpython-311.pyc  \n",
            "  inflating: sparse_autoencoder/sparse_autoencoder/activation_resampler/utils/__pycache__/__init__.cpython-311.pyc  \n",
            "  inflating: sparse_autoencoder/sparse_autoencoder/train/tests/__snapshots__/test_sweep.ambr  \n",
            "  inflating: sparse_autoencoder/sparse_autoencoder/train/utils/tests/test_get_model_device.py  \n",
            "  inflating: sparse_autoencoder/sparse_autoencoder/train/utils/tests/test_wandb_sweep_types.py  \n",
            "  inflating: sparse_autoencoder/sparse_autoencoder/train/utils/__pycache__/get_model_device.cpython-311.pyc  \n",
            "  inflating: sparse_autoencoder/sparse_autoencoder/train/utils/__pycache__/wandb_sweep_types.cpython-311.pyc  \n",
            "  inflating: sparse_autoencoder/sparse_autoencoder/train/utils/__pycache__/round_down.cpython-311.pyc  \n",
            "  inflating: sparse_autoencoder/sparse_autoencoder/train/utils/__pycache__/__init__.cpython-311.pyc  \n",
            "  inflating: sparse_autoencoder/.git/logs/refs/heads/main  \n",
            "   creating: sparse_autoencoder/.git/logs/refs/remotes/origin/\n",
            "  inflating: sparse_autoencoder/.git/refs/remotes/origin/HEAD  \n",
            "  inflating: sparse_autoencoder/sparse_autoencoder/metrics/validate/tests/__snapshots__/test_model_reconstruction_score.ambr  \n",
            "  inflating: sparse_autoencoder/sparse_autoencoder/autoencoder/components/tests/__snapshots__/test_linear_encoder.ambr  \n",
            "  inflating: sparse_autoencoder/.git/logs/refs/remotes/origin/HEAD  \n",
            "finishing deferred symbolic links:\n",
            "  sparse_autoencoder/wandb/debug-internal.log -> run-20240707_191921-7h59c5m8/logs/debug-internal.log\n",
            "  sparse_autoencoder/wandb/debug.log -> run-20240707_191921-7h59c5m8/logs/debug.log\n",
            "  sparse_autoencoder/wandb/latest-run -> run-20240707_191921-7h59c5m8\n"
          ]
        }
      ]
    },
    {
      "cell_type": "code",
      "source": [
        "!cd /content/sparse_autoencoder && pwd"
      ],
      "metadata": {
        "colab": {
          "base_uri": "https://localhost:8080/"
        },
        "id": "YkDbbAeopSH7",
        "outputId": "e8fa15cb-a998-43c9-e7ca-917892e392e9"
      },
      "execution_count": null,
      "outputs": [
        {
          "output_type": "stream",
          "name": "stdout",
          "text": [
            "/content/sparse_autoencoder\n"
          ]
        }
      ]
    },
    {
      "cell_type": "code",
      "source": [
        "import os\n",
        "\n",
        "%cd /content/sparse_autoencoder\n",
        "\n",
        "from sparse_autoencoder import (\n",
        "    ActivationResamplerHyperparameters,\n",
        "    AutoencoderHyperparameters,\n",
        "    Hyperparameters,\n",
        "    LossHyperparameters,\n",
        "    Method,\n",
        "    OptimizerHyperparameters,\n",
        "    Parameter,\n",
        "    PipelineHyperparameters,\n",
        "    SourceDataHyperparameters,\n",
        "    SourceModelHyperparameters,\n",
        "    SweepConfig,\n",
        "    sweep,\n",
        ")"
      ],
      "metadata": {
        "colab": {
          "base_uri": "https://localhost:8080/",
          "height": 411
        },
        "id": "Z5uJk6yDnk-e",
        "outputId": "8f4aefc0-e501-42d6-e8b6-c54a6d84d528"
      },
      "execution_count": null,
      "outputs": [
        {
          "output_type": "stream",
          "name": "stdout",
          "text": [
            "/content/sparse_autoencoder\n"
          ]
        },
        {
          "output_type": "error",
          "ename": "ImportError",
          "evalue": "cannot import name 'ActivationResamplerHyperparameters' from 'sparse_autoencoder' (unknown location)",
          "traceback": [
            "\u001b[0;31m---------------------------------------------------------------------------\u001b[0m",
            "\u001b[0;31mImportError\u001b[0m                               Traceback (most recent call last)",
            "\u001b[0;32m<ipython-input-7-4d7426190648>\u001b[0m in \u001b[0;36m<cell line: 5>\u001b[0;34m()\u001b[0m\n\u001b[1;32m      3\u001b[0m \u001b[0mget_ipython\u001b[0m\u001b[0;34m(\u001b[0m\u001b[0;34m)\u001b[0m\u001b[0;34m.\u001b[0m\u001b[0mrun_line_magic\u001b[0m\u001b[0;34m(\u001b[0m\u001b[0;34m'cd'\u001b[0m\u001b[0;34m,\u001b[0m \u001b[0;34m'/content/sparse_autoencoder'\u001b[0m\u001b[0;34m)\u001b[0m\u001b[0;34m\u001b[0m\u001b[0;34m\u001b[0m\u001b[0m\n\u001b[1;32m      4\u001b[0m \u001b[0;34m\u001b[0m\u001b[0m\n\u001b[0;32m----> 5\u001b[0;31m from sparse_autoencoder import (\n\u001b[0m\u001b[1;32m      6\u001b[0m     \u001b[0mActivationResamplerHyperparameters\u001b[0m\u001b[0;34m,\u001b[0m\u001b[0;34m\u001b[0m\u001b[0;34m\u001b[0m\u001b[0m\n\u001b[1;32m      7\u001b[0m     \u001b[0mAutoencoderHyperparameters\u001b[0m\u001b[0;34m,\u001b[0m\u001b[0;34m\u001b[0m\u001b[0;34m\u001b[0m\u001b[0m\n",
            "\u001b[0;31mImportError\u001b[0m: cannot import name 'ActivationResamplerHyperparameters' from 'sparse_autoencoder' (unknown location)",
            "",
            "\u001b[0;31m---------------------------------------------------------------------------\u001b[0;32m\nNOTE: If your import is failing due to a missing package, you can\nmanually install dependencies using either !pip or !apt.\n\nTo view examples of installing some common dependencies, click the\n\"Open Examples\" button below.\n\u001b[0;31m---------------------------------------------------------------------------\u001b[0m\n"
          ],
          "errorDetails": {
            "actions": [
              {
                "action": "open_url",
                "actionText": "Open Examples",
                "url": "/notebooks/snippets/importing_libraries.ipynb"
              }
            ]
          }
        }
      ]
    },
    {
      "cell_type": "code",
      "execution_count": null,
      "metadata": {
        "id": "IkKaqSuAFTr9"
      },
      "outputs": [],
      "source": [
        "def train_gpt_small_mlp_layers(\n",
        "    expansion_factor: int = 4,\n",
        "    n_layers: int = 12,\n",
        ") -> None:\n",
        "    \"\"\"Run a new sweep experiment on GPT 2 Small's MLP layers.\n",
        "\n",
        "    Args:\n",
        "        expansion_factor: Expansion factor for the autoencoder.\n",
        "        n_layers: Number of layers to train on. Max is 12.\n",
        "\n",
        "    \"\"\"\n",
        "    sweep_config = SweepConfig(\n",
        "        parameters=Hyperparameters(\n",
        "            loss=LossHyperparameters(\n",
        "                l1_coefficient=Parameter(max=0.03, min=0.008),\n",
        "            ),\n",
        "            optimizer=OptimizerHyperparameters(\n",
        "                lr=Parameter(max=0.001, min=0.00001),\n",
        "            ),\n",
        "            source_model=SourceModelHyperparameters(\n",
        "                name=Parameter(\"gpt2\"),\n",
        "                cache_names=Parameter(\n",
        "                    [f\"blocks.{layer}.hook_mlp_out\" for layer in range(n_layers)]\n",
        "                ),\n",
        "                hook_dimension=Parameter(768),\n",
        "            ),\n",
        "            source_data=SourceDataHyperparameters(\n",
        "                dataset_path=Parameter(\"alancooney/sae-monology-pile-uncopyrighted-tokenizer-gpt2\"),\n",
        "                context_size=Parameter(256),\n",
        "                pre_tokenized=Parameter(value=True),\n",
        "                pre_download=Parameter(value=False),  # Default to streaming the dataset\n",
        "            ),\n",
        "            autoencoder=AutoencoderHyperparameters(\n",
        "                expansion_factor=Parameter(value=expansion_factor)\n",
        "            ),\n",
        "            pipeline=PipelineHyperparameters(\n",
        "                max_activations=Parameter(1_000_000_000),\n",
        "                checkpoint_frequency=Parameter(100_000_000),\n",
        "                validation_frequency=Parameter(100_000_000),\n",
        "                max_store_size=Parameter(1_000_000),\n",
        "            ),\n",
        "            activation_resampler=ActivationResamplerHyperparameters(\n",
        "                resample_interval=Parameter(200_000_000),\n",
        "                n_activations_activity_collate=Parameter(100_000_000),\n",
        "                threshold_is_dead_portion_fires=Parameter(1e-6),\n",
        "                max_n_resamples=Parameter(4),\n",
        "            ),\n",
        "        ),\n",
        "        method=Method.RANDOM,\n",
        "    )\n",
        "\n",
        "    sweep(sweep_config=sweep_config)"
      ]
    },
    {
      "cell_type": "code",
      "execution_count": null,
      "metadata": {
        "id": "TzTecVNpFTr-"
      },
      "outputs": [],
      "source": [
        "train_gpt_small_mlp_layers()"
      ]
    }
  ],
  "metadata": {
    "kernelspec": {
      "display_name": "Python 3",
      "name": "python3"
    },
    "language_info": {
      "codemirror_mode": {
        "name": "ipython",
        "version": 3
      },
      "file_extension": ".py",
      "mimetype": "text/x-python",
      "name": "python",
      "nbconvert_exporter": "python",
      "pygments_lexer": "ipython3",
      "version": "3.11.9"
    },
    "colab": {
      "provenance": [],
      "gpuType": "T4",
      "include_colab_link": true
    },
    "accelerator": "GPU"
  },
  "nbformat": 4,
  "nbformat_minor": 0
}