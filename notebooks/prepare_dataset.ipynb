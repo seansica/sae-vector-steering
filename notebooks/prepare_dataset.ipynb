{
 "cells": [
  {
   "cell_type": "code",
   "execution_count": 7,
   "metadata": {},
   "outputs": [],
   "source": [
    "#!pip install --upgrade jupyter ipywidgets\n",
    "# !jupyter nbextension enable --py widgetsnbextension"
   ]
  },
  {
   "cell_type": "code",
   "execution_count": 1,
   "metadata": {},
   "outputs": [],
   "source": [
    "from datasets import load_dataset\n",
    "import tiktoken\n",
    "import h5py\n",
    "from tqdm.notebook import tqdm\n",
    "from torch.utils.data import IterableDataset\n",
    "from collections import defaultdict"
   ]
  },
  {
   "cell_type": "code",
   "execution_count": 6,
   "metadata": {},
   "outputs": [],
   "source": [
    "class PileDataset(IterableDataset):\n",
    "    def __init__(self, dataset_iterator, context_length, tokenizer):\n",
    "        self.dataset_iterator = dataset_iterator\n",
    "        self.context_length = context_length\n",
    "        self.tokenizer = tokenizer\n",
    "        self.current_tokens = []\n",
    "        self.current_pile_set_name = None\n",
    "\n",
    "    def __iter__(self):\n",
    "        return self\n",
    "\n",
    "    def __next__(self):\n",
    "        while len(self.current_tokens) < self.context_length:\n",
    "            try:\n",
    "                example = next(self.dataset_iterator)\n",
    "                text = example['text'] + \"<|endoftext|>\"\n",
    "                new_tokens = self.tokenizer.encode(text, allowed_special={'<|endoftext|>'})\n",
    "                self.current_tokens.extend(new_tokens)\n",
    "                self.current_pile_set_name = example['meta']['pile_set_name']\n",
    "            except StopIteration:\n",
    "                if not self.current_tokens:\n",
    "                    raise StopIteration\n",
    "                break\n",
    "            except Exception as e:\n",
    "                print(f\"Error processing example: {e}\")\n",
    "                continue\n",
    "\n",
    "        if len(self.current_tokens) >= self.context_length:\n",
    "            tokens = self.current_tokens[:self.context_length]\n",
    "            self.current_tokens = self.current_tokens[self.context_length:]\n",
    "        else:\n",
    "            tokens = self.current_tokens\n",
    "            self.current_tokens = []\n",
    "\n",
    "        return tokens, self.current_pile_set_name"
   ]
  },
  {
   "cell_type": "code",
   "execution_count": 2,
   "metadata": {},
   "outputs": [],
   "source": [
    "class PileDataset(IterableDataset):\n",
    "    def __init__(self, dataset_iterator, context_length, tokenizer):\n",
    "        self.dataset_iterator = dataset_iterator\n",
    "        self.context_length = context_length\n",
    "        self.tokenizer = tokenizer\n",
    "        self.current_tokens = []\n",
    "        self.current_pile_set_name = None\n",
    "        self.pile_set_distribution = defaultdict(int)\n",
    "        self.total_tokens = 0\n",
    "\n",
    "    def __iter__(self):\n",
    "        return self\n",
    "\n",
    "    def __next__(self):\n",
    "        while len(self.current_tokens) < self.context_length:\n",
    "            try:\n",
    "                example = next(self.dataset_iterator)\n",
    "                text = example['text'] + \"<|endoftext|>\"\n",
    "                new_tokens = self.tokenizer.encode(text, allowed_special={'<|endoftext|>'})\n",
    "                self.current_tokens.extend(new_tokens)\n",
    "                self.current_pile_set_name = example['meta']['pile_set_name']\n",
    "                self.pile_set_distribution[self.current_pile_set_name] += len(new_tokens)\n",
    "                self.total_tokens += len(new_tokens)\n",
    "            except StopIteration:\n",
    "                if not self.current_tokens:\n",
    "                    raise StopIteration\n",
    "                break\n",
    "            except Exception as e:\n",
    "                print(f\"Error processing example: {e}\")\n",
    "                continue\n",
    "\n",
    "        if len(self.current_tokens) >= self.context_length:\n",
    "            tokens = self.current_tokens[:self.context_length]\n",
    "            self.current_tokens = self.current_tokens[self.context_length:]\n",
    "        else:\n",
    "            tokens = self.current_tokens\n",
    "            self.current_tokens = []\n",
    "\n",
    "        return tokens, self.current_pile_set_name\n",
    "\n",
    "    def print_distribution(self):\n",
    "        print(\"Data Distribution:\")\n",
    "        for pile_set, count in self.pile_set_distribution.items():\n",
    "            print(f\"{pile_set}: {count} tokens ({count/self.total_tokens*100:.2f}%)\")\n",
    "\n",
    "    def export_to_h5(self, output_file, chunk_size=1000000, max_tokens=None):\n",
    "        with h5py.File(output_file, 'w') as f:\n",
    "            dset = f.create_dataset('tokens', shape=(0,), maxshape=(None,), dtype='i4', chunks=True)\n",
    "            \n",
    "            total_tokens = 0\n",
    "            buffer = []\n",
    "            samples_processed = 0\n",
    "            \n",
    "            pbar = tqdm(total=max_tokens or float('inf'), desc=\"Processing tokens\", unit=\"tok\")\n",
    "            \n",
    "            try:\n",
    "                for tokens, pile_set_name in self:\n",
    "                    buffer.extend(tokens)\n",
    "                    \n",
    "                    if len(buffer) >= chunk_size:\n",
    "                        dset.resize(total_tokens + len(buffer), axis=0)\n",
    "                        dset[total_tokens:] = buffer\n",
    "                        total_tokens += len(buffer)\n",
    "                        pbar.update(len(buffer))\n",
    "                        buffer = []\n",
    "                    \n",
    "                    samples_processed += 1\n",
    "\n",
    "                    if max_tokens and total_tokens >= max_tokens:\n",
    "                        print(f\"Reached max tokens: {total_tokens}\")\n",
    "                        break\n",
    "                    \n",
    "                    if samples_processed % 1000 == 0:\n",
    "                        print(f\"Processed {samples_processed} samples, {total_tokens} tokens\")\n",
    "            \n",
    "            except Exception as e:\n",
    "                print(f\"Error in main loop: {e}\")\n",
    "            \n",
    "            if buffer:\n",
    "                dset.resize(total_tokens + len(buffer), axis=0)\n",
    "                dset[total_tokens:] = buffer\n",
    "                total_tokens += len(buffer)\n",
    "                pbar.update(len(buffer))\n",
    "            \n",
    "            pbar.close()\n",
    "\n",
    "            # Save the distribution to the HDF5 file\n",
    "            distribution_group = f.create_group('distribution')\n",
    "            for pile_set, count in self.pile_set_distribution.items():\n",
    "                distribution_group.attrs[pile_set] = count\n",
    "\n",
    "        print(f\"Tokenization complete. Total tokens: {total_tokens}\")\n",
    "        print(f\"Samples processed: {samples_processed}\")\n",
    "        return output_file\n",
    "\n",
    "    def split(self, train_ratio, val_ratio, test_ratio):\n",
    "        assert abs(train_ratio + val_ratio + test_ratio - 1.0) < 1e-6, \"Ratios must sum to 1\"\n",
    "        \n",
    "        train_tokens = int(self.total_tokens * train_ratio)\n",
    "        val_tokens = int(self.total_tokens * val_ratio)\n",
    "        test_tokens = self.total_tokens - train_tokens - val_tokens\n",
    "\n",
    "        train_dataset = PileDataset(self.dataset_iterator, self.context_length, self.tokenizer)\n",
    "        val_dataset = PileDataset(self.dataset_iterator, self.context_length, self.tokenizer)\n",
    "        test_dataset = PileDataset(self.dataset_iterator, self.context_length, self.tokenizer)\n",
    "\n",
    "        current_tokens = 0\n",
    "        current_dataset = train_dataset\n",
    "\n",
    "        for tokens, pile_set_name in self:\n",
    "            if current_tokens < train_tokens:\n",
    "                current_dataset = train_dataset\n",
    "            elif current_tokens < train_tokens + val_tokens:\n",
    "                current_dataset = val_dataset\n",
    "            else:\n",
    "                current_dataset = test_dataset\n",
    "\n",
    "            current_dataset.current_tokens.extend(tokens)\n",
    "            current_dataset.pile_set_distribution[pile_set_name] += len(tokens)\n",
    "            current_dataset.total_tokens += len(tokens)\n",
    "\n",
    "            current_tokens += len(tokens)\n",
    "\n",
    "            if current_tokens >= self.total_tokens:\n",
    "                break\n",
    "\n",
    "        return train_dataset, val_dataset, test_dataset"
   ]
  },
  {
   "cell_type": "code",
   "execution_count": 3,
   "metadata": {},
   "outputs": [],
   "source": [
    "config = {\n",
    "    \"output_file\": \"tokenized_pile.h5\",\n",
    "    \"chunk_size\": 1000000,\n",
    "    \"max_tokens\": 1_000_000,  # Process 1 million tokens\n",
    "    # \"max_tokens\": 1_000_000_000,  # Process 1 billion tokens\n",
    "    \"max_samples\": None,  # Set to an integer if you want to limit by number of samples\n",
    "    \"context_length\": 1024  # Adjust this based on your model's context length\n",
    "}"
   ]
  },
  {
   "cell_type": "code",
   "execution_count": 4,
   "metadata": {},
   "outputs": [
    {
     "data": {
      "application/vnd.jupyter.widget-view+json": {
       "model_id": "ec326a7ae8304f36b61e668709c69c76",
       "version_major": 2,
       "version_minor": 0
      },
      "text/plain": [
       "Resolving data files:   0%|          | 0/30 [00:00<?, ?it/s]"
      ]
     },
     "metadata": {},
     "output_type": "display_data"
    },
    {
     "name": "stdout",
     "output_type": "stream",
     "text": [
      "Dataset loaded\n",
      "Tokenizer initialized\n",
      "PileDataset instance created\n"
     ]
    }
   ],
   "source": [
    "# Load the dataset\n",
    "dataset = load_dataset(\"monology/pile-uncopyrighted\", split=\"train\", streaming=True)\n",
    "print(\"Dataset loaded\")\n",
    "\n",
    "# Initialize the tokenizer\n",
    "enc = tiktoken.get_encoding(\"r50k_base\")\n",
    "print(\"Tokenizer initialized\")\n",
    "\n",
    "# Create PileDataset instance\n",
    "pile_dataset = PileDataset(iter(dataset), config[\"context_length\"], enc)\n",
    "print(\"PileDataset instance created\")\n",
    "\n",
    "# Dictionary to store token counts for each pile_set_name\n",
    "pile_set_distribution = defaultdict(int)"
   ]
  },
  {
   "cell_type": "code",
   "execution_count": 5,
   "metadata": {},
   "outputs": [],
   "source": [
    "# Split the dataset\n",
    "train, val, test = pile_dataset.split(0.7, 0.15, 0.15)"
   ]
  },
  {
   "cell_type": "code",
   "execution_count": 7,
   "metadata": {},
   "outputs": [
    {
     "data": {
      "application/vnd.jupyter.widget-view+json": {
       "model_id": "078a37d5264340d891e4a375f7338cc6",
       "version_major": 2,
       "version_minor": 0
      },
      "text/plain": [
       "Processing tokens:   0%|          | 0/700000.0 [00:00<?, ?tok/s]"
      ]
     },
     "metadata": {},
     "output_type": "display_data"
    },
    {
     "name": "stdout",
     "output_type": "stream",
     "text": [
      "Reached max tokens: 1000448\n",
      "Tokenization complete. Total tokens: 1000448\n",
      "Samples processed: 977\n"
     ]
    },
    {
     "data": {
      "application/vnd.jupyter.widget-view+json": {
       "model_id": "5f3f4860d0924d57afa60d492fc63f61",
       "version_major": 2,
       "version_minor": 0
      },
      "text/plain": [
       "Processing tokens:   0%|          | 0/150000.0 [00:00<?, ?tok/s]"
      ]
     },
     "metadata": {},
     "output_type": "display_data"
    },
    {
     "name": "stdout",
     "output_type": "stream",
     "text": [
      "Reached max tokens: 1000448\n",
      "Tokenization complete. Total tokens: 1000448\n",
      "Samples processed: 977\n"
     ]
    },
    {
     "data": {
      "application/vnd.jupyter.widget-view+json": {
       "model_id": "842cabc8414b4bcb820e16293edf5d87",
       "version_major": 2,
       "version_minor": 0
      },
      "text/plain": [
       "Processing tokens:   0%|          | 0/150000.0 [00:00<?, ?tok/s]"
      ]
     },
     "metadata": {},
     "output_type": "display_data"
    },
    {
     "name": "stdout",
     "output_type": "stream",
     "text": [
      "Reached max tokens: 1000448\n",
      "Tokenization complete. Total tokens: 1000448\n",
      "Samples processed: 977\n",
      "Train dataset distribution:\n",
      "Data Distribution:\n",
      "PubMed Abstracts: 52429 tokens (2.61%)\n",
      "USPTO Backgrounds: 53860 tokens (2.68%)\n",
      "Github: 157626 tokens (7.84%)\n",
      "Wikipedia (en): 81581 tokens (4.06%)\n",
      "StackExchange: 123495 tokens (6.14%)\n",
      "NIH ExPorter: 10693 tokens (0.53%)\n",
      "ArXiv: 392555 tokens (19.52%)\n",
      "Pile-CC: 302272 tokens (15.03%)\n",
      "FreeLaw: 136991 tokens (6.81%)\n",
      "HackerNews: 9528 tokens (0.47%)\n",
      "DM Mathematics: 72752 tokens (3.62%)\n",
      "Enron Emails: 5000 tokens (0.25%)\n",
      "PubMed Central: 612440 tokens (30.45%)\n",
      "\n",
      "Validation dataset distribution:\n",
      "Data Distribution:\n",
      "StackExchange: 68851 tokens (6.82%)\n",
      "PubMed Abstracts: 33847 tokens (3.35%)\n",
      "Github: 193562 tokens (19.18%)\n",
      "Wikipedia (en): 106231 tokens (10.53%)\n",
      "Pile-CC: 241383 tokens (23.92%)\n",
      "USPTO Backgrounds: 43057 tokens (4.27%)\n",
      "PubMed Central: 173077 tokens (17.15%)\n",
      "FreeLaw: 64896 tokens (6.43%)\n",
      "ArXiv: 34359 tokens (3.40%)\n",
      "Ubuntu IRC: 15418 tokens (1.53%)\n",
      "DM Mathematics: 20719 tokens (2.05%)\n",
      "HackerNews: 10135 tokens (1.00%)\n",
      "NIH ExPorter: 2953 tokens (0.29%)\n",
      "Enron Emails: 713 tokens (0.07%)\n",
      "\n",
      "Test dataset distribution:\n",
      "Data Distribution:\n",
      "Pile-CC: 141114 tokens (14.07%)\n",
      "Github: 188008 tokens (18.75%)\n",
      "StackExchange: 83133 tokens (8.29%)\n",
      "Wikipedia (en): 21749 tokens (2.17%)\n",
      "PubMed Abstracts: 28968 tokens (2.89%)\n",
      "USPTO Backgrounds: 36777 tokens (3.67%)\n",
      "FreeLaw: 117819 tokens (11.75%)\n",
      "PubMed Central: 152510 tokens (15.21%)\n",
      "HackerNews: 3169 tokens (0.32%)\n",
      "NIH ExPorter: 3517 tokens (0.35%)\n",
      "ArXiv: 193871 tokens (19.34%)\n",
      "DM Mathematics: 30493 tokens (3.04%)\n",
      "Enron Emails: 1517 tokens (0.15%)\n"
     ]
    }
   ],
   "source": [
    "# Export the datasets to h5 files\n",
    "train_h5_path = train.export_to_h5('./tokenized_pile_train.h5', max_tokens=config[\"max_tokens\"] * 0.7)\n",
    "val_h5_path = val.export_to_h5('./tokenized_pile_val.h5', max_tokens=config[\"max_tokens\"] * 0.15)\n",
    "test_h5_path = test.export_to_h5('./tokenized_pile_test.h5', max_tokens=config[\"max_tokens\"] * 0.15)\n",
    "\n",
    "# Print distributions\n",
    "print(\"Train dataset distribution:\")\n",
    "train.print_distribution()\n",
    "print(\"\\nValidation dataset distribution:\")\n",
    "val.print_distribution()\n",
    "print(\"\\nTest dataset distribution:\")\n",
    "test.print_distribution()"
   ]
  },
  {
   "cell_type": "code",
   "execution_count": 12,
   "metadata": {},
   "outputs": [
    {
     "data": {
      "application/vnd.jupyter.widget-view+json": {
       "model_id": "287191e071914ae580babeeada770d29",
       "version_major": 2,
       "version_minor": 0
      },
      "text/plain": [
       "Processing tokens:   0%|          | 0/1000000 [00:00<?, ?tok/s]"
      ]
     },
     "metadata": {},
     "output_type": "display_data"
    },
    {
     "name": "stdout",
     "output_type": "stream",
     "text": [
      "Reached max tokens: 1000448\n",
      "Tokenization complete. Total tokens: 1000448\n",
      "Samples processed: 977\n"
     ]
    }
   ],
   "source": [
    "# Prepare the output file\n",
    "with h5py.File(config[\"output_file\"], 'w') as f:\n",
    "    dset = f.create_dataset('tokens', shape=(0,), maxshape=(None,), dtype='i4', chunks=True)\n",
    "    \n",
    "    total_tokens = 0\n",
    "    buffer = []\n",
    "    samples_processed = 0\n",
    "    \n",
    "    pbar = tqdm(total=config[\"max_tokens\"], desc=\"Processing tokens\", unit=\"tok\")\n",
    "    \n",
    "    try:\n",
    "        for tokens, pile_set_name in pile_dataset:\n",
    "            buffer.extend(tokens)\n",
    "            pile_set_distribution[pile_set_name] += len(tokens)\n",
    "            \n",
    "            if len(buffer) >= config[\"chunk_size\"]:\n",
    "                dset.resize(total_tokens + len(buffer), axis=0)\n",
    "                dset[total_tokens:] = buffer\n",
    "                total_tokens += len(buffer)\n",
    "                pbar.update(len(buffer))\n",
    "                buffer = []\n",
    "            \n",
    "            samples_processed += 1\n",
    "\n",
    "            if total_tokens >= config[\"max_tokens\"]:\n",
    "                print(f\"Reached max tokens: {total_tokens}\")\n",
    "                break\n",
    "            \n",
    "            if config[\"max_samples\"] and samples_processed >= config[\"max_samples\"]:\n",
    "                print(f\"Reached max samples: {samples_processed}\")\n",
    "                break\n",
    "            \n",
    "            if samples_processed % 1000 == 0:\n",
    "                print(f\"Processed {samples_processed} samples, {total_tokens} tokens\")\n",
    "    \n",
    "    except Exception as e:\n",
    "        print(f\"Error in main loop: {e}\")\n",
    "    \n",
    "    if buffer:\n",
    "        dset.resize(total_tokens + len(buffer), axis=0)\n",
    "        dset[total_tokens:] = buffer\n",
    "        total_tokens += len(buffer)\n",
    "        pbar.update(len(buffer))\n",
    "    \n",
    "    pbar.close()\n",
    "\n",
    "print(f\"Tokenization complete. Total tokens: {total_tokens}\")\n",
    "print(f\"Samples processed: {samples_processed}\")"
   ]
  },
  {
   "cell_type": "code",
   "execution_count": 36,
   "metadata": {},
   "outputs": [
    {
     "name": "stdout",
     "output_type": "stream",
     "text": [
      "Pile-CC: 143360 tokens (14.33%)\n",
      "Github: 63488 tokens (6.35%)\n",
      "StackExchange: 81920 tokens (8.19%)\n",
      "Wikipedia (en): 26624 tokens (2.66%)\n",
      "PubMed Abstracts: 23552 tokens (2.35%)\n",
      "USPTO Backgrounds: 28672 tokens (2.87%)\n",
      "FreeLaw: 59392 tokens (5.94%)\n",
      "PubMed Central: 362496 tokens (36.23%)\n",
      "HackerNews: 5120 tokens (0.51%)\n",
      "NIH ExPorter: 4096 tokens (0.41%)\n",
      "ArXiv: 166912 tokens (16.68%)\n",
      "DM Mathematics: 32768 tokens (3.28%)\n",
      "Enron Emails: 2048 tokens (0.20%)\n"
     ]
    }
   ],
   "source": [
    "# Print the distribution\n",
    "for pile_set, count in pile_set_distribution.items():\n",
    "    print(f\"{pile_set}: {count} tokens ({count/total_tokens*100:.2f}%)\")\n",
    "\n",
    "# Save the distribution to the HDF5 file\n",
    "with h5py.File(config[\"output_file\"], 'a') as f:\n",
    "    distribution_group = f.create_group('distribution')\n",
    "    for pile_set, count in pile_set_distribution.items():\n",
    "        distribution_group.attrs[pile_set] = count"
   ]
  },
  {
   "cell_type": "code",
   "execution_count": 37,
   "metadata": {},
   "outputs": [
    {
     "data": {
      "image/png": "[encoded data removed]",
      "text/plain": [
       "<Figure size 1500x1000 with 1 Axes>"
      ]
     },
     "metadata": {},
     "output_type": "display_data"
    }
   ],
   "source": [
    "import matplotlib.pyplot as plt\n",
    "import h5py\n",
    "import numpy as np\n",
    "\n",
    "def visualize_distribution(file_path):\n",
    "    with h5py.File(file_path, 'r') as f:\n",
    "        distribution = dict(f['distribution'].attrs)\n",
    "    \n",
    "    # Sort the distribution by token count\n",
    "    sorted_distribution = sorted(distribution.items(), key=lambda x: x[1], reverse=True)\n",
    "    labels, values = zip(*sorted_distribution)\n",
    "\n",
    "    # Calculate percentages\n",
    "    total = sum(values)\n",
    "    percentages = [value / total * 100 for value in values]\n",
    "\n",
    "    # Create the bar plot\n",
    "    fig, ax = plt.subplots(figsize=(15, 10))\n",
    "    bars = ax.bar(labels, percentages)\n",
    "\n",
    "    # Customize the plot\n",
    "    ax.set_title('Distribution of Pile Dataset Sources', fontsize=16)\n",
    "    ax.set_xlabel('Source', fontsize=12)\n",
    "    ax.set_ylabel('Percentage of Tokens', fontsize=12)\n",
    "    ax.set_ylim(0, max(percentages) * 1.1)  # Set y-axis limit with some headroom\n",
    "\n",
    "    # Rotate x-axis labels for better readability\n",
    "    plt.xticks(rotation=45, ha='right')\n",
    "\n",
    "    # Add percentage labels on top of each bar\n",
    "    for bar in bars:\n",
    "        height = bar.get_height()\n",
    "        ax.text(bar.get_x() + bar.get_width()/2., height,\n",
    "                f'{height:.1f}%',\n",
    "                ha='center', va='bottom')\n",
    "\n",
    "    # Adjust layout and display the plot\n",
    "    plt.tight_layout()\n",
    "    plt.show()\n",
    "\n",
    "# Use the function\n",
    "visualize_distribution(config[\"output_file\"])"
   ]
  }
 ],
 "metadata": {
  "kernelspec": {
   "display_name": "nlp",
   "language": "python",
   "name": "python3"
  },
  "language_info": {
   "codemirror_mode": {
    "name": "ipython",
    "version": 3
   },
   "file_extension": ".py",
   "mimetype": "text/x-python",
   "name": "python",
   "nbconvert_exporter": "python",
   "pygments_lexer": "ipython3",
   "version": "3.11.9"
  }
 },
 "nbformat": 4,
 "nbformat_minor": 2
}
